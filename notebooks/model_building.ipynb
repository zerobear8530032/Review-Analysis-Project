{
 "cells": [
  {
   "cell_type": "code",
   "execution_count": 1,
   "id": "9e220272-96f5-4d72-8282-4e2b00bcbd32",
   "metadata": {},
   "outputs": [],
   "source": [
    "import pandas as pd\n",
    "import matplotlib.pyplot as plt\n",
    "import string\n",
    "import numpy as np\n",
    "import pickle\n",
    "import seaborn as sns\n",
    "\n",
    "from scipy.sparse import hstack\n",
    "from nltk.corpus import stopwords\n",
    "from nltk.stem import WordNetLemmatizer\n",
    "from sklearn.feature_extraction.text import CountVectorizer\n",
    "from sklearn.feature_extraction.text import TfidfVectorizer\n",
    "from sklearn.model_selection import train_test_split\n",
    "from sklearn.linear_model import LogisticRegression\n",
    "from sklearn.metrics import classification_report, accuracy_score\n",
    "from sklearn.model_selection import cross_val_score\n",
    "from sklearn.metrics import confusion_matrix\n"
   ]
  },
  {
   "cell_type": "code",
   "execution_count": 2,
   "id": "44bd8aa4-1c73-4b0c-860f-e30cfcdb641f",
   "metadata": {},
   "outputs": [],
   "source": [
    "stop = stopwords.words('english')"
   ]
  },
  {
   "cell_type": "code",
   "execution_count": 3,
   "id": "38306a55-5a73-4580-a0ab-c223011b71b4",
   "metadata": {},
   "outputs": [
    {
     "data": {
      "text/html": [
       "<div>\n",
       "<style scoped>\n",
       "    .dataframe tbody tr th:only-of-type {\n",
       "        vertical-align: middle;\n",
       "    }\n",
       "\n",
       "    .dataframe tbody tr th {\n",
       "        vertical-align: top;\n",
       "    }\n",
       "\n",
       "    .dataframe thead th {\n",
       "        text-align: right;\n",
       "    }\n",
       "</style>\n",
       "<table border=\"1\" class=\"dataframe\">\n",
       "  <thead>\n",
       "    <tr style=\"text-align: right;\">\n",
       "      <th></th>\n",
       "      <th>reviewerID</th>\n",
       "      <th>asin</th>\n",
       "      <th>reviewerName</th>\n",
       "      <th>helpful</th>\n",
       "      <th>reviewText</th>\n",
       "      <th>overall</th>\n",
       "      <th>summary</th>\n",
       "      <th>unixReviewTime</th>\n",
       "      <th>reviewTime</th>\n",
       "    </tr>\n",
       "  </thead>\n",
       "  <tbody>\n",
       "    <tr>\n",
       "      <th>0</th>\n",
       "      <td>A1HK2FQW6KXQB2</td>\n",
       "      <td>097293751X</td>\n",
       "      <td>Amanda Johnsen \"Amanda E. Johnsen\"</td>\n",
       "      <td>[0, 0]</td>\n",
       "      <td>Perfect for new parents. We were able to keep ...</td>\n",
       "      <td>5</td>\n",
       "      <td>Awesine</td>\n",
       "      <td>1373932800</td>\n",
       "      <td>07 16, 2013</td>\n",
       "    </tr>\n",
       "    <tr>\n",
       "      <th>1</th>\n",
       "      <td>A19K65VY14D13R</td>\n",
       "      <td>097293751X</td>\n",
       "      <td>angela</td>\n",
       "      <td>[0, 0]</td>\n",
       "      <td>This book is such a life saver.  It has been s...</td>\n",
       "      <td>5</td>\n",
       "      <td>Should be required for all new parents!</td>\n",
       "      <td>1372464000</td>\n",
       "      <td>06 29, 2013</td>\n",
       "    </tr>\n",
       "    <tr>\n",
       "      <th>2</th>\n",
       "      <td>A2LL1TGG90977E</td>\n",
       "      <td>097293751X</td>\n",
       "      <td>Carter</td>\n",
       "      <td>[0, 0]</td>\n",
       "      <td>Helps me know exactly how my babies day has go...</td>\n",
       "      <td>5</td>\n",
       "      <td>Grandmother watching baby</td>\n",
       "      <td>1395187200</td>\n",
       "      <td>03 19, 2014</td>\n",
       "    </tr>\n",
       "    <tr>\n",
       "      <th>3</th>\n",
       "      <td>A5G19RYX8599E</td>\n",
       "      <td>097293751X</td>\n",
       "      <td>cfpurplerose</td>\n",
       "      <td>[0, 0]</td>\n",
       "      <td>I bought this a few times for my older son and...</td>\n",
       "      <td>5</td>\n",
       "      <td>repeat buyer</td>\n",
       "      <td>1376697600</td>\n",
       "      <td>08 17, 2013</td>\n",
       "    </tr>\n",
       "    <tr>\n",
       "      <th>4</th>\n",
       "      <td>A2496A4EWMLQ7</td>\n",
       "      <td>097293751X</td>\n",
       "      <td>C. Jeter</td>\n",
       "      <td>[0, 0]</td>\n",
       "      <td>I wanted an alternative to printing out daily ...</td>\n",
       "      <td>4</td>\n",
       "      <td>Great</td>\n",
       "      <td>1396310400</td>\n",
       "      <td>04 1, 2014</td>\n",
       "    </tr>\n",
       "    <tr>\n",
       "      <th>...</th>\n",
       "      <td>...</td>\n",
       "      <td>...</td>\n",
       "      <td>...</td>\n",
       "      <td>...</td>\n",
       "      <td>...</td>\n",
       "      <td>...</td>\n",
       "      <td>...</td>\n",
       "      <td>...</td>\n",
       "      <td>...</td>\n",
       "    </tr>\n",
       "    <tr>\n",
       "      <th>160787</th>\n",
       "      <td>A30J0DKNKCF7SR</td>\n",
       "      <td>B00L13XFIE</td>\n",
       "      <td>SD</td>\n",
       "      <td>[0, 0]</td>\n",
       "      <td>Bought this as a baby gift and my friend heard...</td>\n",
       "      <td>5</td>\n",
       "      <td>Great baby gift</td>\n",
       "      <td>1391126400</td>\n",
       "      <td>01 31, 2014</td>\n",
       "    </tr>\n",
       "    <tr>\n",
       "      <th>160788</th>\n",
       "      <td>AG4E44KM93P4L</td>\n",
       "      <td>B00L13XFIE</td>\n",
       "      <td>Silofish</td>\n",
       "      <td>[0, 1]</td>\n",
       "      <td>I am new to cloth diapering. I was leery that ...</td>\n",
       "      <td>4</td>\n",
       "      <td>Not too bulky</td>\n",
       "      <td>1343606400</td>\n",
       "      <td>07 30, 2012</td>\n",
       "    </tr>\n",
       "    <tr>\n",
       "      <th>160789</th>\n",
       "      <td>A2UZUH4QHV4HA1</td>\n",
       "      <td>B00L13XFIE</td>\n",
       "      <td>S. Smith \"sunnshyne309\"</td>\n",
       "      <td>[0, 0]</td>\n",
       "      <td>My friend is planning on cloth diapering and I...</td>\n",
       "      <td>5</td>\n",
       "      <td>great help!</td>\n",
       "      <td>1364256000</td>\n",
       "      <td>03 26, 2013</td>\n",
       "    </tr>\n",
       "    <tr>\n",
       "      <th>160790</th>\n",
       "      <td>A2Z26PUQPMT5JV</td>\n",
       "      <td>B00L13XFIE</td>\n",
       "      <td>Stephanie S. Kim</td>\n",
       "      <td>[0, 0]</td>\n",
       "      <td>We LOVE the organic cotton/hemp inserts. They'...</td>\n",
       "      <td>5</td>\n",
       "      <td>Love these diapers!</td>\n",
       "      <td>1391731200</td>\n",
       "      <td>02 7, 2014</td>\n",
       "    </tr>\n",
       "    <tr>\n",
       "      <th>160791</th>\n",
       "      <td>A3CIIOMK18CHXM</td>\n",
       "      <td>B00L13XFIE</td>\n",
       "      <td>Viviana</td>\n",
       "      <td>[1, 1]</td>\n",
       "      <td>These are great. I should have bought hemp ins...</td>\n",
       "      <td>5</td>\n",
       "      <td>Really absorbent</td>\n",
       "      <td>1355788800</td>\n",
       "      <td>12 18, 2012</td>\n",
       "    </tr>\n",
       "  </tbody>\n",
       "</table>\n",
       "<p>160792 rows × 9 columns</p>\n",
       "</div>"
      ],
      "text/plain": [
       "            reviewerID        asin                        reviewerName  \\\n",
       "0       A1HK2FQW6KXQB2  097293751X  Amanda Johnsen \"Amanda E. Johnsen\"   \n",
       "1       A19K65VY14D13R  097293751X                              angela   \n",
       "2       A2LL1TGG90977E  097293751X                              Carter   \n",
       "3        A5G19RYX8599E  097293751X                        cfpurplerose   \n",
       "4        A2496A4EWMLQ7  097293751X                            C. Jeter   \n",
       "...                ...         ...                                 ...   \n",
       "160787  A30J0DKNKCF7SR  B00L13XFIE                                  SD   \n",
       "160788   AG4E44KM93P4L  B00L13XFIE                            Silofish   \n",
       "160789  A2UZUH4QHV4HA1  B00L13XFIE             S. Smith \"sunnshyne309\"   \n",
       "160790  A2Z26PUQPMT5JV  B00L13XFIE                    Stephanie S. Kim   \n",
       "160791  A3CIIOMK18CHXM  B00L13XFIE                             Viviana   \n",
       "\n",
       "       helpful                                         reviewText  overall  \\\n",
       "0       [0, 0]  Perfect for new parents. We were able to keep ...        5   \n",
       "1       [0, 0]  This book is such a life saver.  It has been s...        5   \n",
       "2       [0, 0]  Helps me know exactly how my babies day has go...        5   \n",
       "3       [0, 0]  I bought this a few times for my older son and...        5   \n",
       "4       [0, 0]  I wanted an alternative to printing out daily ...        4   \n",
       "...        ...                                                ...      ...   \n",
       "160787  [0, 0]  Bought this as a baby gift and my friend heard...        5   \n",
       "160788  [0, 1]  I am new to cloth diapering. I was leery that ...        4   \n",
       "160789  [0, 0]  My friend is planning on cloth diapering and I...        5   \n",
       "160790  [0, 0]  We LOVE the organic cotton/hemp inserts. They'...        5   \n",
       "160791  [1, 1]  These are great. I should have bought hemp ins...        5   \n",
       "\n",
       "                                        summary  unixReviewTime   reviewTime  \n",
       "0                                       Awesine      1373932800  07 16, 2013  \n",
       "1       Should be required for all new parents!      1372464000  06 29, 2013  \n",
       "2                     Grandmother watching baby      1395187200  03 19, 2014  \n",
       "3                                  repeat buyer      1376697600  08 17, 2013  \n",
       "4                                         Great      1396310400   04 1, 2014  \n",
       "...                                         ...             ...          ...  \n",
       "160787                          Great baby gift      1391126400  01 31, 2014  \n",
       "160788                            Not too bulky      1343606400  07 30, 2012  \n",
       "160789                              great help!      1364256000  03 26, 2013  \n",
       "160790                      Love these diapers!      1391731200   02 7, 2014  \n",
       "160791                         Really absorbent      1355788800  12 18, 2012  \n",
       "\n",
       "[160792 rows x 9 columns]"
      ]
     },
     "execution_count": 3,
     "metadata": {},
     "output_type": "execute_result"
    }
   ],
   "source": [
    "df = pd.read_json(\"reviews_Baby_5.json\", lines=True)\n",
    "df"
   ]
  },
  {
   "cell_type": "code",
   "execution_count": 4,
   "id": "96ec4eaf-615f-42b4-839a-b51aae19c9a9",
   "metadata": {},
   "outputs": [
    {
     "data": {
      "text/plain": [
       "Index(['reviewerID', 'asin', 'reviewerName', 'helpful', 'reviewText',\n",
       "       'overall', 'summary', 'unixReviewTime', 'reviewTime'],\n",
       "      dtype='object')"
      ]
     },
     "execution_count": 4,
     "metadata": {},
     "output_type": "execute_result"
    }
   ],
   "source": [
    "df.columns"
   ]
  },
  {
   "cell_type": "code",
   "execution_count": 5,
   "id": "f9003846-3785-451e-8cdf-99de0e038dd1",
   "metadata": {},
   "outputs": [
    {
     "name": "stdout",
     "output_type": "stream",
     "text": [
      "<class 'pandas.core.frame.DataFrame'>\n",
      "RangeIndex: 160792 entries, 0 to 160791\n",
      "Data columns (total 9 columns):\n",
      " #   Column          Non-Null Count   Dtype \n",
      "---  ------          --------------   ----- \n",
      " 0   reviewerID      160792 non-null  object\n",
      " 1   asin            160792 non-null  object\n",
      " 2   reviewerName    159427 non-null  object\n",
      " 3   helpful         160792 non-null  object\n",
      " 4   reviewText      160792 non-null  object\n",
      " 5   overall         160792 non-null  int64 \n",
      " 6   summary         160792 non-null  object\n",
      " 7   unixReviewTime  160792 non-null  int64 \n",
      " 8   reviewTime      160792 non-null  object\n",
      "dtypes: int64(2), object(7)\n",
      "memory usage: 11.0+ MB\n"
     ]
    }
   ],
   "source": [
    "df.info()"
   ]
  },
  {
   "cell_type": "code",
   "execution_count": 6,
   "id": "ed7ca4e0-b842-4f89-ab04-51fe2533bc8d",
   "metadata": {},
   "outputs": [],
   "source": [
    "countvalues= df[\"overall\"].value_counts()"
   ]
  },
  {
   "cell_type": "code",
   "execution_count": 7,
   "id": "cfd7f007-e055-4445-9702-6b2eab719d8b",
   "metadata": {},
   "outputs": [
    {
     "data": {
      "text/plain": [
       "overall\n",
       "5    93526\n",
       "4    32999\n",
       "3    17255\n",
       "2     9193\n",
       "1     7819\n",
       "Name: count, dtype: int64"
      ]
     },
     "execution_count": 7,
     "metadata": {},
     "output_type": "execute_result"
    }
   ],
   "source": [
    "countvalues"
   ]
  },
  {
   "cell_type": "code",
   "execution_count": 8,
   "id": "070810c4-71fe-4001-8357-e63a57111df6",
   "metadata": {},
   "outputs": [
    {
     "data": {
      "text/plain": [
       "<BarContainer object of 5 artists>"
      ]
     },
     "execution_count": 8,
     "metadata": {},
     "output_type": "execute_result"
    },
    {
     "data": {
      "image/png": "[encoded data removed]",
      "text/plain": [
       "<Figure size 640x480 with 1 Axes>"
      ]
     },
     "metadata": {},
     "output_type": "display_data"
    }
   ],
   "source": [
    "plt.bar([5,4,3,2,1],countvalues)"
   ]
  },
  {
   "cell_type": "code",
   "execution_count": 9,
   "id": "c75aabc6-5ff4-4e89-89dc-9522321a0802",
   "metadata": {},
   "outputs": [],
   "source": [
    "sampledf=df.sample(10000)"
   ]
  },
  {
   "cell_type": "code",
   "execution_count": 10,
   "id": "b0f49e87-60bb-4527-b4f3-848eec173e22",
   "metadata": {},
   "outputs": [],
   "source": [
    "samp_count=sampledf[\"overall\"].value_counts()"
   ]
  },
  {
   "cell_type": "code",
   "execution_count": 11,
   "id": "55922bfa-56a9-4c8b-9dd0-628898e003a2",
   "metadata": {},
   "outputs": [
    {
     "data": {
      "text/plain": [
       "<BarContainer object of 5 artists>"
      ]
     },
     "execution_count": 11,
     "metadata": {},
     "output_type": "execute_result"
    },
    {
     "data": {
      "image/png": "[encoded data removed]",
      "text/plain": [
       "<Figure size 640x480 with 1 Axes>"
      ]
     },
     "metadata": {},
     "output_type": "display_data"
    }
   ],
   "source": [
    "plt.bar([5,4,3,2,1],samp_count)"
   ]
  },
  {
   "cell_type": "code",
   "execution_count": 12,
   "id": "9c5b142f-0a5f-42fe-bd91-8b213ff867e0",
   "metadata": {},
   "outputs": [],
   "source": [
    "def classify_rating(x :[int])->[int]: \n",
    "    if x<3:\n",
    "        return -1\n",
    "    if x==3:\n",
    "        return 0\n",
    "    if x>3:\n",
    "        return 1"
   ]
  },
  {
   "cell_type": "code",
   "execution_count": 13,
   "id": "a8cb9fd2-bd0b-4e60-8f2c-f79d2efe44f9",
   "metadata": {},
   "outputs": [],
   "source": [
    "df[\"labels\"]= df[\"overall\"].apply(classify_rating)\n"
   ]
  },
  {
   "cell_type": "code",
   "execution_count": 14,
   "id": "ff8a736e-252b-44d0-9173-4a700f22b37f",
   "metadata": {},
   "outputs": [],
   "source": [
    "countlabel=df[\"labels\"].value_counts()"
   ]
  },
  {
   "cell_type": "code",
   "execution_count": 15,
   "id": "39957b77-dc78-4528-ac8e-a7a5cf13552e",
   "metadata": {},
   "outputs": [
    {
     "data": {
      "text/plain": [
       "labels\n",
       " 1    126525\n",
       " 0     17255\n",
       "-1     17012\n",
       "Name: count, dtype: int64"
      ]
     },
     "execution_count": 15,
     "metadata": {},
     "output_type": "execute_result"
    }
   ],
   "source": [
    "countlabel"
   ]
  },
  {
   "cell_type": "code",
   "execution_count": 16,
   "id": "46bfec2d-83ae-4ddc-9c1d-d57c37885715",
   "metadata": {},
   "outputs": [
    {
     "data": {
      "text/plain": [
       "<BarContainer object of 3 artists>"
      ]
     },
     "execution_count": 16,
     "metadata": {},
     "output_type": "execute_result"
    },
    {
     "data": {
      "image/png": "[encoded data removed]",
      "text/plain": [
       "<Figure size 640x480 with 1 Axes>"
      ]
     },
     "metadata": {},
     "output_type": "display_data"
    }
   ],
   "source": [
    "plt.bar([\"positive\",\"neutral\",\"negative\"],countlabel)"
   ]
  },
  {
   "cell_type": "code",
   "execution_count": 17,
   "id": "de3109e4-d166-4a50-b2d6-7bce97943968",
   "metadata": {},
   "outputs": [],
   "source": [
    "# Assuming df is your dataframe and 'labels' is the target column\n",
    "label_counts = df['labels'].value_counts()\n",
    "\n",
    "# Determine the smallest class count (which is the limiting factor)\n",
    "min_count = label_counts.min()\n",
    "\n",
    "# Take a sample of the minimum size from each class\n",
    "df_undersampled = df.groupby('labels').apply(lambda x: x.sample(min_count)).reset_index(drop=True)\n",
    "\n",
    "# Now df_undersampled has balanced class distributions"
   ]
  },
  {
   "cell_type": "code",
   "execution_count": 18,
   "id": "cc2973b4-9b5c-4e57-9b5f-5bbac7891fc1",
   "metadata": {},
   "outputs": [
    {
     "data": {
      "text/html": [
       "<div>\n",
       "<style scoped>\n",
       "    .dataframe tbody tr th:only-of-type {\n",
       "        vertical-align: middle;\n",
       "    }\n",
       "\n",
       "    .dataframe tbody tr th {\n",
       "        vertical-align: top;\n",
       "    }\n",
       "\n",
       "    .dataframe thead th {\n",
       "        text-align: right;\n",
       "    }\n",
       "</style>\n",
       "<table border=\"1\" class=\"dataframe\">\n",
       "  <thead>\n",
       "    <tr style=\"text-align: right;\">\n",
       "      <th></th>\n",
       "      <th>reviewerID</th>\n",
       "      <th>asin</th>\n",
       "      <th>reviewerName</th>\n",
       "      <th>helpful</th>\n",
       "      <th>reviewText</th>\n",
       "      <th>overall</th>\n",
       "      <th>summary</th>\n",
       "      <th>unixReviewTime</th>\n",
       "      <th>reviewTime</th>\n",
       "      <th>labels</th>\n",
       "    </tr>\n",
       "  </thead>\n",
       "  <tbody>\n",
       "    <tr>\n",
       "      <th>0</th>\n",
       "      <td>A3B1DT3EWXFFPE</td>\n",
       "      <td>B001CUPT3K</td>\n",
       "      <td>Amazon Customer \"SNS\"</td>\n",
       "      <td>[2, 3]</td>\n",
       "      <td>I purchased this because my old worn down but ...</td>\n",
       "      <td>1</td>\n",
       "      <td>Worst weather shield!</td>\n",
       "      <td>1359763200</td>\n",
       "      <td>02 2, 2013</td>\n",
       "      <td>-1</td>\n",
       "    </tr>\n",
       "    <tr>\n",
       "      <th>1</th>\n",
       "      <td>A2V55F355DDVCG</td>\n",
       "      <td>B00081L2Q2</td>\n",
       "      <td>J. Apfel \"Maxito's dad\"</td>\n",
       "      <td>[0, 0]</td>\n",
       "      <td>We bought this instead of the pull back shades...</td>\n",
       "      <td>2</td>\n",
       "      <td>Not worth aiming for the cheap side</td>\n",
       "      <td>1337126400</td>\n",
       "      <td>05 16, 2012</td>\n",
       "      <td>-1</td>\n",
       "    </tr>\n",
       "    <tr>\n",
       "      <th>2</th>\n",
       "      <td>AGJM0LB7EDRJG</td>\n",
       "      <td>B002UXQRDO</td>\n",
       "      <td>S. Reid</td>\n",
       "      <td>[0, 0]</td>\n",
       "      <td>Do you like soaking wet bras? Do you enjoy loo...</td>\n",
       "      <td>1</td>\n",
       "      <td>Awful! Don't waste your money!</td>\n",
       "      <td>1293235200</td>\n",
       "      <td>12 25, 2010</td>\n",
       "      <td>-1</td>\n",
       "    </tr>\n",
       "    <tr>\n",
       "      <th>3</th>\n",
       "      <td>A1SUZJ1XP2QQXA</td>\n",
       "      <td>B006STJUBC</td>\n",
       "      <td>laura123456789</td>\n",
       "      <td>[0, 0]</td>\n",
       "      <td>My 1 year old daughter just does not like this...</td>\n",
       "      <td>2</td>\n",
       "      <td>Smells like moth balls</td>\n",
       "      <td>1391990400</td>\n",
       "      <td>02 10, 2014</td>\n",
       "      <td>-1</td>\n",
       "    </tr>\n",
       "    <tr>\n",
       "      <th>4</th>\n",
       "      <td>A1VQ3C009A55YE</td>\n",
       "      <td>B004HFQOLS</td>\n",
       "      <td>pamazon</td>\n",
       "      <td>[1, 1]</td>\n",
       "      <td>The phlanges are 24mm......I ended up being a ...</td>\n",
       "      <td>1</td>\n",
       "      <td>Don't waste your $$</td>\n",
       "      <td>1382486400</td>\n",
       "      <td>10 23, 2013</td>\n",
       "      <td>-1</td>\n",
       "    </tr>\n",
       "    <tr>\n",
       "      <th>...</th>\n",
       "      <td>...</td>\n",
       "      <td>...</td>\n",
       "      <td>...</td>\n",
       "      <td>...</td>\n",
       "      <td>...</td>\n",
       "      <td>...</td>\n",
       "      <td>...</td>\n",
       "      <td>...</td>\n",
       "      <td>...</td>\n",
       "      <td>...</td>\n",
       "    </tr>\n",
       "    <tr>\n",
       "      <th>51031</th>\n",
       "      <td>A36GBYG56FMW55</td>\n",
       "      <td>B000I2Q0FO</td>\n",
       "      <td>Bee's Mom</td>\n",
       "      <td>[0, 0]</td>\n",
       "      <td>I picked up my daughter from daycare a week ag...</td>\n",
       "      <td>4</td>\n",
       "      <td>8 month old will not let it go.</td>\n",
       "      <td>1331769600</td>\n",
       "      <td>03 15, 2012</td>\n",
       "      <td>1</td>\n",
       "    </tr>\n",
       "    <tr>\n",
       "      <th>51032</th>\n",
       "      <td>AE62182ZKLN85</td>\n",
       "      <td>B000I2OKDS</td>\n",
       "      <td>Pfeifer Mommy</td>\n",
       "      <td>[0, 0]</td>\n",
       "      <td>My 3 month old loves this, he loves to stare a...</td>\n",
       "      <td>5</td>\n",
       "      <td>Great buy!</td>\n",
       "      <td>1385251200</td>\n",
       "      <td>11 24, 2013</td>\n",
       "      <td>1</td>\n",
       "    </tr>\n",
       "    <tr>\n",
       "      <th>51033</th>\n",
       "      <td>AR3PEQ375BG9O</td>\n",
       "      <td>B0012AII9M</td>\n",
       "      <td>JenF</td>\n",
       "      <td>[0, 0]</td>\n",
       "      <td>We have several of these for our kids and boug...</td>\n",
       "      <td>5</td>\n",
       "      <td>Best blankets of all time!</td>\n",
       "      <td>1386979200</td>\n",
       "      <td>12 14, 2013</td>\n",
       "      <td>1</td>\n",
       "    </tr>\n",
       "    <tr>\n",
       "      <th>51034</th>\n",
       "      <td>A2VSEA1M7OGQFI</td>\n",
       "      <td>B002SG7JSU</td>\n",
       "      <td>Amazonmama</td>\n",
       "      <td>[3, 3]</td>\n",
       "      <td>We have purchased these before.  They are grea...</td>\n",
       "      <td>5</td>\n",
       "      <td>Great for coffee tables.</td>\n",
       "      <td>1367193600</td>\n",
       "      <td>04 29, 2013</td>\n",
       "      <td>1</td>\n",
       "    </tr>\n",
       "    <tr>\n",
       "      <th>51035</th>\n",
       "      <td>A2VKQW0HM9SVCC</td>\n",
       "      <td>B0089Y91HM</td>\n",
       "      <td>JT</td>\n",
       "      <td>[1, 5]</td>\n",
       "      <td>Although the stokke highchair and all associat...</td>\n",
       "      <td>4</td>\n",
       "      <td>it works</td>\n",
       "      <td>1356652800</td>\n",
       "      <td>12 28, 2012</td>\n",
       "      <td>1</td>\n",
       "    </tr>\n",
       "  </tbody>\n",
       "</table>\n",
       "<p>51036 rows × 10 columns</p>\n",
       "</div>"
      ],
      "text/plain": [
       "           reviewerID        asin             reviewerName helpful  \\\n",
       "0      A3B1DT3EWXFFPE  B001CUPT3K    Amazon Customer \"SNS\"  [2, 3]   \n",
       "1      A2V55F355DDVCG  B00081L2Q2  J. Apfel \"Maxito's dad\"  [0, 0]   \n",
       "2       AGJM0LB7EDRJG  B002UXQRDO                  S. Reid  [0, 0]   \n",
       "3      A1SUZJ1XP2QQXA  B006STJUBC           laura123456789  [0, 0]   \n",
       "4      A1VQ3C009A55YE  B004HFQOLS                  pamazon  [1, 1]   \n",
       "...               ...         ...                      ...     ...   \n",
       "51031  A36GBYG56FMW55  B000I2Q0FO                Bee's Mom  [0, 0]   \n",
       "51032   AE62182ZKLN85  B000I2OKDS            Pfeifer Mommy  [0, 0]   \n",
       "51033   AR3PEQ375BG9O  B0012AII9M                     JenF  [0, 0]   \n",
       "51034  A2VSEA1M7OGQFI  B002SG7JSU               Amazonmama  [3, 3]   \n",
       "51035  A2VKQW0HM9SVCC  B0089Y91HM                       JT  [1, 5]   \n",
       "\n",
       "                                              reviewText  overall  \\\n",
       "0      I purchased this because my old worn down but ...        1   \n",
       "1      We bought this instead of the pull back shades...        2   \n",
       "2      Do you like soaking wet bras? Do you enjoy loo...        1   \n",
       "3      My 1 year old daughter just does not like this...        2   \n",
       "4      The phlanges are 24mm......I ended up being a ...        1   \n",
       "...                                                  ...      ...   \n",
       "51031  I picked up my daughter from daycare a week ag...        4   \n",
       "51032  My 3 month old loves this, he loves to stare a...        5   \n",
       "51033  We have several of these for our kids and boug...        5   \n",
       "51034  We have purchased these before.  They are grea...        5   \n",
       "51035  Although the stokke highchair and all associat...        4   \n",
       "\n",
       "                                   summary  unixReviewTime   reviewTime  \\\n",
       "0                    Worst weather shield!      1359763200   02 2, 2013   \n",
       "1      Not worth aiming for the cheap side      1337126400  05 16, 2012   \n",
       "2           Awful! Don't waste your money!      1293235200  12 25, 2010   \n",
       "3                   Smells like moth balls      1391990400  02 10, 2014   \n",
       "4                      Don't waste your $$      1382486400  10 23, 2013   \n",
       "...                                    ...             ...          ...   \n",
       "51031      8 month old will not let it go.      1331769600  03 15, 2012   \n",
       "51032                           Great buy!      1385251200  11 24, 2013   \n",
       "51033           Best blankets of all time!      1386979200  12 14, 2013   \n",
       "51034             Great for coffee tables.      1367193600  04 29, 2013   \n",
       "51035                             it works      1356652800  12 28, 2012   \n",
       "\n",
       "       labels  \n",
       "0          -1  \n",
       "1          -1  \n",
       "2          -1  \n",
       "3          -1  \n",
       "4          -1  \n",
       "...       ...  \n",
       "51031       1  \n",
       "51032       1  \n",
       "51033       1  \n",
       "51034       1  \n",
       "51035       1  \n",
       "\n",
       "[51036 rows x 10 columns]"
      ]
     },
     "execution_count": 18,
     "metadata": {},
     "output_type": "execute_result"
    }
   ],
   "source": [
    "df_undersampled"
   ]
  },
  {
   "cell_type": "code",
   "execution_count": 19,
   "id": "3d6f7530-f19d-4854-b401-d12ae949c9c6",
   "metadata": {},
   "outputs": [],
   "source": [
    "countlabel=df_undersampled[\"labels\"].value_counts()"
   ]
  },
  {
   "cell_type": "code",
   "execution_count": 20,
   "id": "def1d898-24c0-481e-be34-f03944866b3b",
   "metadata": {},
   "outputs": [
    {
     "data": {
      "text/plain": [
       "<BarContainer object of 3 artists>"
      ]
     },
     "execution_count": 20,
     "metadata": {},
     "output_type": "execute_result"
    },
    {
     "data": {
      "image/png": "[encoded data removed]",
      "text/plain": [
       "<Figure size 640x480 with 1 Axes>"
      ]
     },
     "metadata": {},
     "output_type": "display_data"
    }
   ],
   "source": [
    "plt.bar([\"positive\",\"neutral\",\"negative\"],countlabel)"
   ]
  },
  {
   "cell_type": "code",
   "execution_count": 21,
   "id": "b384efa7-1a2b-41b6-8472-bc9deb9867c5",
   "metadata": {},
   "outputs": [],
   "source": [
    "df=df_undersampled"
   ]
  },
  {
   "cell_type": "code",
   "execution_count": 22,
   "id": "ddc80127-902d-4d12-a089-976ccc988df4",
   "metadata": {},
   "outputs": [
    {
     "data": {
      "text/html": [
       "<div>\n",
       "<style scoped>\n",
       "    .dataframe tbody tr th:only-of-type {\n",
       "        vertical-align: middle;\n",
       "    }\n",
       "\n",
       "    .dataframe tbody tr th {\n",
       "        vertical-align: top;\n",
       "    }\n",
       "\n",
       "    .dataframe thead th {\n",
       "        text-align: right;\n",
       "    }\n",
       "</style>\n",
       "<table border=\"1\" class=\"dataframe\">\n",
       "  <thead>\n",
       "    <tr style=\"text-align: right;\">\n",
       "      <th></th>\n",
       "      <th>reviewerID</th>\n",
       "      <th>asin</th>\n",
       "      <th>reviewerName</th>\n",
       "      <th>helpful</th>\n",
       "      <th>reviewText</th>\n",
       "      <th>overall</th>\n",
       "      <th>summary</th>\n",
       "      <th>unixReviewTime</th>\n",
       "      <th>reviewTime</th>\n",
       "      <th>labels</th>\n",
       "    </tr>\n",
       "  </thead>\n",
       "  <tbody>\n",
       "    <tr>\n",
       "      <th>0</th>\n",
       "      <td>A3B1DT3EWXFFPE</td>\n",
       "      <td>B001CUPT3K</td>\n",
       "      <td>Amazon Customer \"SNS\"</td>\n",
       "      <td>[2, 3]</td>\n",
       "      <td>I purchased this because my old worn down but ...</td>\n",
       "      <td>1</td>\n",
       "      <td>Worst weather shield!</td>\n",
       "      <td>1359763200</td>\n",
       "      <td>02 2, 2013</td>\n",
       "      <td>-1</td>\n",
       "    </tr>\n",
       "    <tr>\n",
       "      <th>1</th>\n",
       "      <td>A2V55F355DDVCG</td>\n",
       "      <td>B00081L2Q2</td>\n",
       "      <td>J. Apfel \"Maxito's dad\"</td>\n",
       "      <td>[0, 0]</td>\n",
       "      <td>We bought this instead of the pull back shades...</td>\n",
       "      <td>2</td>\n",
       "      <td>Not worth aiming for the cheap side</td>\n",
       "      <td>1337126400</td>\n",
       "      <td>05 16, 2012</td>\n",
       "      <td>-1</td>\n",
       "    </tr>\n",
       "    <tr>\n",
       "      <th>2</th>\n",
       "      <td>AGJM0LB7EDRJG</td>\n",
       "      <td>B002UXQRDO</td>\n",
       "      <td>S. Reid</td>\n",
       "      <td>[0, 0]</td>\n",
       "      <td>Do you like soaking wet bras? Do you enjoy loo...</td>\n",
       "      <td>1</td>\n",
       "      <td>Awful! Don't waste your money!</td>\n",
       "      <td>1293235200</td>\n",
       "      <td>12 25, 2010</td>\n",
       "      <td>-1</td>\n",
       "    </tr>\n",
       "    <tr>\n",
       "      <th>3</th>\n",
       "      <td>A1SUZJ1XP2QQXA</td>\n",
       "      <td>B006STJUBC</td>\n",
       "      <td>laura123456789</td>\n",
       "      <td>[0, 0]</td>\n",
       "      <td>My 1 year old daughter just does not like this...</td>\n",
       "      <td>2</td>\n",
       "      <td>Smells like moth balls</td>\n",
       "      <td>1391990400</td>\n",
       "      <td>02 10, 2014</td>\n",
       "      <td>-1</td>\n",
       "    </tr>\n",
       "    <tr>\n",
       "      <th>4</th>\n",
       "      <td>A1VQ3C009A55YE</td>\n",
       "      <td>B004HFQOLS</td>\n",
       "      <td>pamazon</td>\n",
       "      <td>[1, 1]</td>\n",
       "      <td>The phlanges are 24mm......I ended up being a ...</td>\n",
       "      <td>1</td>\n",
       "      <td>Don't waste your $$</td>\n",
       "      <td>1382486400</td>\n",
       "      <td>10 23, 2013</td>\n",
       "      <td>-1</td>\n",
       "    </tr>\n",
       "    <tr>\n",
       "      <th>...</th>\n",
       "      <td>...</td>\n",
       "      <td>...</td>\n",
       "      <td>...</td>\n",
       "      <td>...</td>\n",
       "      <td>...</td>\n",
       "      <td>...</td>\n",
       "      <td>...</td>\n",
       "      <td>...</td>\n",
       "      <td>...</td>\n",
       "      <td>...</td>\n",
       "    </tr>\n",
       "    <tr>\n",
       "      <th>51031</th>\n",
       "      <td>A36GBYG56FMW55</td>\n",
       "      <td>B000I2Q0FO</td>\n",
       "      <td>Bee's Mom</td>\n",
       "      <td>[0, 0]</td>\n",
       "      <td>I picked up my daughter from daycare a week ag...</td>\n",
       "      <td>4</td>\n",
       "      <td>8 month old will not let it go.</td>\n",
       "      <td>1331769600</td>\n",
       "      <td>03 15, 2012</td>\n",
       "      <td>1</td>\n",
       "    </tr>\n",
       "    <tr>\n",
       "      <th>51032</th>\n",
       "      <td>AE62182ZKLN85</td>\n",
       "      <td>B000I2OKDS</td>\n",
       "      <td>Pfeifer Mommy</td>\n",
       "      <td>[0, 0]</td>\n",
       "      <td>My 3 month old loves this, he loves to stare a...</td>\n",
       "      <td>5</td>\n",
       "      <td>Great buy!</td>\n",
       "      <td>1385251200</td>\n",
       "      <td>11 24, 2013</td>\n",
       "      <td>1</td>\n",
       "    </tr>\n",
       "    <tr>\n",
       "      <th>51033</th>\n",
       "      <td>AR3PEQ375BG9O</td>\n",
       "      <td>B0012AII9M</td>\n",
       "      <td>JenF</td>\n",
       "      <td>[0, 0]</td>\n",
       "      <td>We have several of these for our kids and boug...</td>\n",
       "      <td>5</td>\n",
       "      <td>Best blankets of all time!</td>\n",
       "      <td>1386979200</td>\n",
       "      <td>12 14, 2013</td>\n",
       "      <td>1</td>\n",
       "    </tr>\n",
       "    <tr>\n",
       "      <th>51034</th>\n",
       "      <td>A2VSEA1M7OGQFI</td>\n",
       "      <td>B002SG7JSU</td>\n",
       "      <td>Amazonmama</td>\n",
       "      <td>[3, 3]</td>\n",
       "      <td>We have purchased these before.  They are grea...</td>\n",
       "      <td>5</td>\n",
       "      <td>Great for coffee tables.</td>\n",
       "      <td>1367193600</td>\n",
       "      <td>04 29, 2013</td>\n",
       "      <td>1</td>\n",
       "    </tr>\n",
       "    <tr>\n",
       "      <th>51035</th>\n",
       "      <td>A2VKQW0HM9SVCC</td>\n",
       "      <td>B0089Y91HM</td>\n",
       "      <td>JT</td>\n",
       "      <td>[1, 5]</td>\n",
       "      <td>Although the stokke highchair and all associat...</td>\n",
       "      <td>4</td>\n",
       "      <td>it works</td>\n",
       "      <td>1356652800</td>\n",
       "      <td>12 28, 2012</td>\n",
       "      <td>1</td>\n",
       "    </tr>\n",
       "  </tbody>\n",
       "</table>\n",
       "<p>51036 rows × 10 columns</p>\n",
       "</div>"
      ],
      "text/plain": [
       "           reviewerID        asin             reviewerName helpful  \\\n",
       "0      A3B1DT3EWXFFPE  B001CUPT3K    Amazon Customer \"SNS\"  [2, 3]   \n",
       "1      A2V55F355DDVCG  B00081L2Q2  J. Apfel \"Maxito's dad\"  [0, 0]   \n",
       "2       AGJM0LB7EDRJG  B002UXQRDO                  S. Reid  [0, 0]   \n",
       "3      A1SUZJ1XP2QQXA  B006STJUBC           laura123456789  [0, 0]   \n",
       "4      A1VQ3C009A55YE  B004HFQOLS                  pamazon  [1, 1]   \n",
       "...               ...         ...                      ...     ...   \n",
       "51031  A36GBYG56FMW55  B000I2Q0FO                Bee's Mom  [0, 0]   \n",
       "51032   AE62182ZKLN85  B000I2OKDS            Pfeifer Mommy  [0, 0]   \n",
       "51033   AR3PEQ375BG9O  B0012AII9M                     JenF  [0, 0]   \n",
       "51034  A2VSEA1M7OGQFI  B002SG7JSU               Amazonmama  [3, 3]   \n",
       "51035  A2VKQW0HM9SVCC  B0089Y91HM                       JT  [1, 5]   \n",
       "\n",
       "                                              reviewText  overall  \\\n",
       "0      I purchased this because my old worn down but ...        1   \n",
       "1      We bought this instead of the pull back shades...        2   \n",
       "2      Do you like soaking wet bras? Do you enjoy loo...        1   \n",
       "3      My 1 year old daughter just does not like this...        2   \n",
       "4      The phlanges are 24mm......I ended up being a ...        1   \n",
       "...                                                  ...      ...   \n",
       "51031  I picked up my daughter from daycare a week ag...        4   \n",
       "51032  My 3 month old loves this, he loves to stare a...        5   \n",
       "51033  We have several of these for our kids and boug...        5   \n",
       "51034  We have purchased these before.  They are grea...        5   \n",
       "51035  Although the stokke highchair and all associat...        4   \n",
       "\n",
       "                                   summary  unixReviewTime   reviewTime  \\\n",
       "0                    Worst weather shield!      1359763200   02 2, 2013   \n",
       "1      Not worth aiming for the cheap side      1337126400  05 16, 2012   \n",
       "2           Awful! Don't waste your money!      1293235200  12 25, 2010   \n",
       "3                   Smells like moth balls      1391990400  02 10, 2014   \n",
       "4                      Don't waste your $$      1382486400  10 23, 2013   \n",
       "...                                    ...             ...          ...   \n",
       "51031      8 month old will not let it go.      1331769600  03 15, 2012   \n",
       "51032                           Great buy!      1385251200  11 24, 2013   \n",
       "51033           Best blankets of all time!      1386979200  12 14, 2013   \n",
       "51034             Great for coffee tables.      1367193600  04 29, 2013   \n",
       "51035                             it works      1356652800  12 28, 2012   \n",
       "\n",
       "       labels  \n",
       "0          -1  \n",
       "1          -1  \n",
       "2          -1  \n",
       "3          -1  \n",
       "4          -1  \n",
       "...       ...  \n",
       "51031       1  \n",
       "51032       1  \n",
       "51033       1  \n",
       "51034       1  \n",
       "51035       1  \n",
       "\n",
       "[51036 rows x 10 columns]"
      ]
     },
     "execution_count": 22,
     "metadata": {},
     "output_type": "execute_result"
    }
   ],
   "source": [
    "df"
   ]
  },
  {
   "cell_type": "code",
   "execution_count": 23,
   "id": "b7f0aae6-e18b-4db6-9216-1c4880ab31ff",
   "metadata": {},
   "outputs": [],
   "source": [
    "# df=df[[\"reviewText\",\"overall\",\"summary\",\"labels\",\"helpful\"]]\n",
    "df=df[[\"reviewText\",\"overall\",\"labels\",\"helpful\"]]\n"
   ]
  },
  {
   "cell_type": "code",
   "execution_count": 24,
   "id": "195e4ec1-c16d-430e-9110-c38007de2215",
   "metadata": {},
   "outputs": [
    {
     "data": {
      "text/plain": [
       "helpful\n",
       "[0, 0]        28884\n",
       "[1, 1]         5079\n",
       "[0, 1]         3143\n",
       "[1, 2]         2257\n",
       "[2, 2]         1578\n",
       "              ...  \n",
       "[65, 86]          1\n",
       "[18, 28]          1\n",
       "[353, 406]        1\n",
       "[118, 121]        1\n",
       "[80, 84]          1\n",
       "Name: count, Length: 879, dtype: int64"
      ]
     },
     "execution_count": 24,
     "metadata": {},
     "output_type": "execute_result"
    }
   ],
   "source": [
    "# \n",
    "df[\"helpful\"].value_counts()"
   ]
  },
  {
   "cell_type": "code",
   "execution_count": 25,
   "id": "186266a9-db22-48c3-8a00-12d0a920fcbd",
   "metadata": {},
   "outputs": [
    {
     "name": "stderr",
     "output_type": "stream",
     "text": [
      "C:\\Users\\abdul saboor\\AppData\\Local\\Temp\\ipykernel_2008\\1004786480.py:2: SettingWithCopyWarning: \n",
      "A value is trying to be set on a copy of a slice from a DataFrame.\n",
      "Try using .loc[row_indexer,col_indexer] = value instead\n",
      "\n",
      "See the caveats in the documentation: https://pandas.pydata.org/pandas-docs/stable/user_guide/indexing.html#returning-a-view-versus-a-copy\n",
      "  df[\"helpful\"] = df[\"helpful\"].apply(lambda x: (min(x) / max(x)) * 100 if max(x) != 0 else 0)\n"
     ]
    }
   ],
   "source": [
    "# help full score is change to percentage \n",
    "df[\"helpful\"] = df[\"helpful\"].apply(lambda x: (min(x) / max(x)) * 100 if max(x) != 0 else 0)\n"
   ]
  },
  {
   "cell_type": "code",
   "execution_count": 26,
   "id": "a8da0e1f-4f9e-4e91-b3d8-1f47ef609e54",
   "metadata": {},
   "outputs": [
    {
     "data": {
      "text/html": [
       "<div>\n",
       "<style scoped>\n",
       "    .dataframe tbody tr th:only-of-type {\n",
       "        vertical-align: middle;\n",
       "    }\n",
       "\n",
       "    .dataframe tbody tr th {\n",
       "        vertical-align: top;\n",
       "    }\n",
       "\n",
       "    .dataframe thead th {\n",
       "        text-align: right;\n",
       "    }\n",
       "</style>\n",
       "<table border=\"1\" class=\"dataframe\">\n",
       "  <thead>\n",
       "    <tr style=\"text-align: right;\">\n",
       "      <th></th>\n",
       "      <th>reviewText</th>\n",
       "      <th>overall</th>\n",
       "      <th>labels</th>\n",
       "      <th>helpful</th>\n",
       "    </tr>\n",
       "  </thead>\n",
       "  <tbody>\n",
       "    <tr>\n",
       "      <th>0</th>\n",
       "      <td>I purchased this because my old worn down but ...</td>\n",
       "      <td>1</td>\n",
       "      <td>-1</td>\n",
       "      <td>66.666667</td>\n",
       "    </tr>\n",
       "    <tr>\n",
       "      <th>1</th>\n",
       "      <td>We bought this instead of the pull back shades...</td>\n",
       "      <td>2</td>\n",
       "      <td>-1</td>\n",
       "      <td>0.000000</td>\n",
       "    </tr>\n",
       "    <tr>\n",
       "      <th>2</th>\n",
       "      <td>Do you like soaking wet bras? Do you enjoy loo...</td>\n",
       "      <td>1</td>\n",
       "      <td>-1</td>\n",
       "      <td>0.000000</td>\n",
       "    </tr>\n",
       "    <tr>\n",
       "      <th>3</th>\n",
       "      <td>My 1 year old daughter just does not like this...</td>\n",
       "      <td>2</td>\n",
       "      <td>-1</td>\n",
       "      <td>0.000000</td>\n",
       "    </tr>\n",
       "    <tr>\n",
       "      <th>4</th>\n",
       "      <td>The phlanges are 24mm......I ended up being a ...</td>\n",
       "      <td>1</td>\n",
       "      <td>-1</td>\n",
       "      <td>100.000000</td>\n",
       "    </tr>\n",
       "    <tr>\n",
       "      <th>...</th>\n",
       "      <td>...</td>\n",
       "      <td>...</td>\n",
       "      <td>...</td>\n",
       "      <td>...</td>\n",
       "    </tr>\n",
       "    <tr>\n",
       "      <th>51031</th>\n",
       "      <td>I picked up my daughter from daycare a week ag...</td>\n",
       "      <td>4</td>\n",
       "      <td>1</td>\n",
       "      <td>0.000000</td>\n",
       "    </tr>\n",
       "    <tr>\n",
       "      <th>51032</th>\n",
       "      <td>My 3 month old loves this, he loves to stare a...</td>\n",
       "      <td>5</td>\n",
       "      <td>1</td>\n",
       "      <td>0.000000</td>\n",
       "    </tr>\n",
       "    <tr>\n",
       "      <th>51033</th>\n",
       "      <td>We have several of these for our kids and boug...</td>\n",
       "      <td>5</td>\n",
       "      <td>1</td>\n",
       "      <td>0.000000</td>\n",
       "    </tr>\n",
       "    <tr>\n",
       "      <th>51034</th>\n",
       "      <td>We have purchased these before.  They are grea...</td>\n",
       "      <td>5</td>\n",
       "      <td>1</td>\n",
       "      <td>100.000000</td>\n",
       "    </tr>\n",
       "    <tr>\n",
       "      <th>51035</th>\n",
       "      <td>Although the stokke highchair and all associat...</td>\n",
       "      <td>4</td>\n",
       "      <td>1</td>\n",
       "      <td>20.000000</td>\n",
       "    </tr>\n",
       "  </tbody>\n",
       "</table>\n",
       "<p>51036 rows × 4 columns</p>\n",
       "</div>"
      ],
      "text/plain": [
       "                                              reviewText  overall  labels  \\\n",
       "0      I purchased this because my old worn down but ...        1      -1   \n",
       "1      We bought this instead of the pull back shades...        2      -1   \n",
       "2      Do you like soaking wet bras? Do you enjoy loo...        1      -1   \n",
       "3      My 1 year old daughter just does not like this...        2      -1   \n",
       "4      The phlanges are 24mm......I ended up being a ...        1      -1   \n",
       "...                                                  ...      ...     ...   \n",
       "51031  I picked up my daughter from daycare a week ag...        4       1   \n",
       "51032  My 3 month old loves this, he loves to stare a...        5       1   \n",
       "51033  We have several of these for our kids and boug...        5       1   \n",
       "51034  We have purchased these before.  They are grea...        5       1   \n",
       "51035  Although the stokke highchair and all associat...        4       1   \n",
       "\n",
       "          helpful  \n",
       "0       66.666667  \n",
       "1        0.000000  \n",
       "2        0.000000  \n",
       "3        0.000000  \n",
       "4      100.000000  \n",
       "...           ...  \n",
       "51031    0.000000  \n",
       "51032    0.000000  \n",
       "51033    0.000000  \n",
       "51034  100.000000  \n",
       "51035   20.000000  \n",
       "\n",
       "[51036 rows x 4 columns]"
      ]
     },
     "execution_count": 26,
     "metadata": {},
     "output_type": "execute_result"
    }
   ],
   "source": [
    "df"
   ]
  },
  {
   "cell_type": "code",
   "execution_count": 27,
   "id": "7a9f4796-034d-4e71-8a9c-58d001bb5b1b",
   "metadata": {},
   "outputs": [
    {
     "name": "stderr",
     "output_type": "stream",
     "text": [
      "C:\\Users\\abdul saboor\\AppData\\Local\\Temp\\ipykernel_2008\\2159065035.py:2: SettingWithCopyWarning: \n",
      "A value is trying to be set on a copy of a slice from a DataFrame.\n",
      "Try using .loc[row_indexer,col_indexer] = value instead\n",
      "\n",
      "See the caveats in the documentation: https://pandas.pydata.org/pandas-docs/stable/user_guide/indexing.html#returning-a-view-versus-a-copy\n",
      "  df[\"reviewText\"]=  df[\"reviewText\"].apply(lambda x : x.lower());\n"
     ]
    }
   ],
   "source": [
    "# dealing with text data : converting all to lower case :\n",
    "df[\"reviewText\"]=  df[\"reviewText\"].apply(lambda x : x.lower());\n",
    "# dealing with text data : converting all to lower case :\n",
    "# df[\"summary\"]=  df[\"summary\"].apply(lambda x : x.lower());--- test"
   ]
  },
  {
   "cell_type": "code",
   "execution_count": 28,
   "id": "ada8e5e7-e072-44f4-af83-261f8af82e81",
   "metadata": {},
   "outputs": [
    {
     "data": {
      "text/html": [
       "<div>\n",
       "<style scoped>\n",
       "    .dataframe tbody tr th:only-of-type {\n",
       "        vertical-align: middle;\n",
       "    }\n",
       "\n",
       "    .dataframe tbody tr th {\n",
       "        vertical-align: top;\n",
       "    }\n",
       "\n",
       "    .dataframe thead th {\n",
       "        text-align: right;\n",
       "    }\n",
       "</style>\n",
       "<table border=\"1\" class=\"dataframe\">\n",
       "  <thead>\n",
       "    <tr style=\"text-align: right;\">\n",
       "      <th></th>\n",
       "      <th>reviewText</th>\n",
       "      <th>overall</th>\n",
       "      <th>labels</th>\n",
       "      <th>helpful</th>\n",
       "    </tr>\n",
       "  </thead>\n",
       "  <tbody>\n",
       "    <tr>\n",
       "      <th>0</th>\n",
       "      <td>i purchased this because my old worn down but ...</td>\n",
       "      <td>1</td>\n",
       "      <td>-1</td>\n",
       "      <td>66.666667</td>\n",
       "    </tr>\n",
       "    <tr>\n",
       "      <th>1</th>\n",
       "      <td>we bought this instead of the pull back shades...</td>\n",
       "      <td>2</td>\n",
       "      <td>-1</td>\n",
       "      <td>0.000000</td>\n",
       "    </tr>\n",
       "    <tr>\n",
       "      <th>2</th>\n",
       "      <td>do you like soaking wet bras? do you enjoy loo...</td>\n",
       "      <td>1</td>\n",
       "      <td>-1</td>\n",
       "      <td>0.000000</td>\n",
       "    </tr>\n",
       "    <tr>\n",
       "      <th>3</th>\n",
       "      <td>my 1 year old daughter just does not like this...</td>\n",
       "      <td>2</td>\n",
       "      <td>-1</td>\n",
       "      <td>0.000000</td>\n",
       "    </tr>\n",
       "    <tr>\n",
       "      <th>4</th>\n",
       "      <td>the phlanges are 24mm......i ended up being a ...</td>\n",
       "      <td>1</td>\n",
       "      <td>-1</td>\n",
       "      <td>100.000000</td>\n",
       "    </tr>\n",
       "    <tr>\n",
       "      <th>...</th>\n",
       "      <td>...</td>\n",
       "      <td>...</td>\n",
       "      <td>...</td>\n",
       "      <td>...</td>\n",
       "    </tr>\n",
       "    <tr>\n",
       "      <th>51031</th>\n",
       "      <td>i picked up my daughter from daycare a week ag...</td>\n",
       "      <td>4</td>\n",
       "      <td>1</td>\n",
       "      <td>0.000000</td>\n",
       "    </tr>\n",
       "    <tr>\n",
       "      <th>51032</th>\n",
       "      <td>my 3 month old loves this, he loves to stare a...</td>\n",
       "      <td>5</td>\n",
       "      <td>1</td>\n",
       "      <td>0.000000</td>\n",
       "    </tr>\n",
       "    <tr>\n",
       "      <th>51033</th>\n",
       "      <td>we have several of these for our kids and boug...</td>\n",
       "      <td>5</td>\n",
       "      <td>1</td>\n",
       "      <td>0.000000</td>\n",
       "    </tr>\n",
       "    <tr>\n",
       "      <th>51034</th>\n",
       "      <td>we have purchased these before.  they are grea...</td>\n",
       "      <td>5</td>\n",
       "      <td>1</td>\n",
       "      <td>100.000000</td>\n",
       "    </tr>\n",
       "    <tr>\n",
       "      <th>51035</th>\n",
       "      <td>although the stokke highchair and all associat...</td>\n",
       "      <td>4</td>\n",
       "      <td>1</td>\n",
       "      <td>20.000000</td>\n",
       "    </tr>\n",
       "  </tbody>\n",
       "</table>\n",
       "<p>51036 rows × 4 columns</p>\n",
       "</div>"
      ],
      "text/plain": [
       "                                              reviewText  overall  labels  \\\n",
       "0      i purchased this because my old worn down but ...        1      -1   \n",
       "1      we bought this instead of the pull back shades...        2      -1   \n",
       "2      do you like soaking wet bras? do you enjoy loo...        1      -1   \n",
       "3      my 1 year old daughter just does not like this...        2      -1   \n",
       "4      the phlanges are 24mm......i ended up being a ...        1      -1   \n",
       "...                                                  ...      ...     ...   \n",
       "51031  i picked up my daughter from daycare a week ag...        4       1   \n",
       "51032  my 3 month old loves this, he loves to stare a...        5       1   \n",
       "51033  we have several of these for our kids and boug...        5       1   \n",
       "51034  we have purchased these before.  they are grea...        5       1   \n",
       "51035  although the stokke highchair and all associat...        4       1   \n",
       "\n",
       "          helpful  \n",
       "0       66.666667  \n",
       "1        0.000000  \n",
       "2        0.000000  \n",
       "3        0.000000  \n",
       "4      100.000000  \n",
       "...           ...  \n",
       "51031    0.000000  \n",
       "51032    0.000000  \n",
       "51033    0.000000  \n",
       "51034  100.000000  \n",
       "51035   20.000000  \n",
       "\n",
       "[51036 rows x 4 columns]"
      ]
     },
     "execution_count": 28,
     "metadata": {},
     "output_type": "execute_result"
    }
   ],
   "source": [
    "df"
   ]
  },
  {
   "cell_type": "code",
   "execution_count": 29,
   "id": "ca7528c5-5ab4-4825-bc7b-a04ef043e1f3",
   "metadata": {},
   "outputs": [
    {
     "name": "stderr",
     "output_type": "stream",
     "text": [
      "C:\\Users\\abdul saboor\\AppData\\Local\\Temp\\ipykernel_2008\\846383071.py:2: SettingWithCopyWarning: \n",
      "A value is trying to be set on a copy of a slice from a DataFrame.\n",
      "Try using .loc[row_indexer,col_indexer] = value instead\n",
      "\n",
      "See the caveats in the documentation: https://pandas.pydata.org/pandas-docs/stable/user_guide/indexing.html#returning-a-view-versus-a-copy\n",
      "  df[\"reviewText\"] = df[\"reviewText\"].str.translate(str.maketrans(string.punctuation, ' '*len(string.punctuation)))\n"
     ]
    }
   ],
   "source": [
    "# Replace punctuation with space in reviewText\n",
    "df[\"reviewText\"] = df[\"reviewText\"].str.translate(str.maketrans(string.punctuation, ' '*len(string.punctuation)))\n",
    "\n",
    "# Replace punctuation with space in summary\n",
    "# df[\"summary\"] = df[\"summary\"].str.translate(str.maketrans(string.punctuation, ' '*len(string.punctuation)))"
   ]
  },
  {
   "cell_type": "code",
   "execution_count": 30,
   "id": "211fb37a-e33e-4d92-87cc-4a2764a92535",
   "metadata": {},
   "outputs": [
    {
     "data": {
      "text/html": [
       "<div>\n",
       "<style scoped>\n",
       "    .dataframe tbody tr th:only-of-type {\n",
       "        vertical-align: middle;\n",
       "    }\n",
       "\n",
       "    .dataframe tbody tr th {\n",
       "        vertical-align: top;\n",
       "    }\n",
       "\n",
       "    .dataframe thead th {\n",
       "        text-align: right;\n",
       "    }\n",
       "</style>\n",
       "<table border=\"1\" class=\"dataframe\">\n",
       "  <thead>\n",
       "    <tr style=\"text-align: right;\">\n",
       "      <th></th>\n",
       "      <th>reviewText</th>\n",
       "      <th>overall</th>\n",
       "      <th>labels</th>\n",
       "      <th>helpful</th>\n",
       "    </tr>\n",
       "  </thead>\n",
       "  <tbody>\n",
       "    <tr>\n",
       "      <th>0</th>\n",
       "      <td>i purchased this because my old worn down but ...</td>\n",
       "      <td>1</td>\n",
       "      <td>-1</td>\n",
       "      <td>66.666667</td>\n",
       "    </tr>\n",
       "    <tr>\n",
       "      <th>1</th>\n",
       "      <td>we bought this instead of the pull back shades...</td>\n",
       "      <td>2</td>\n",
       "      <td>-1</td>\n",
       "      <td>0.000000</td>\n",
       "    </tr>\n",
       "    <tr>\n",
       "      <th>2</th>\n",
       "      <td>do you like soaking wet bras  do you enjoy loo...</td>\n",
       "      <td>1</td>\n",
       "      <td>-1</td>\n",
       "      <td>0.000000</td>\n",
       "    </tr>\n",
       "    <tr>\n",
       "      <th>3</th>\n",
       "      <td>my 1 year old daughter just does not like this...</td>\n",
       "      <td>2</td>\n",
       "      <td>-1</td>\n",
       "      <td>0.000000</td>\n",
       "    </tr>\n",
       "    <tr>\n",
       "      <th>4</th>\n",
       "      <td>the phlanges are 24mm      i ended up being a ...</td>\n",
       "      <td>1</td>\n",
       "      <td>-1</td>\n",
       "      <td>100.000000</td>\n",
       "    </tr>\n",
       "    <tr>\n",
       "      <th>...</th>\n",
       "      <td>...</td>\n",
       "      <td>...</td>\n",
       "      <td>...</td>\n",
       "      <td>...</td>\n",
       "    </tr>\n",
       "    <tr>\n",
       "      <th>51031</th>\n",
       "      <td>i picked up my daughter from daycare a week ag...</td>\n",
       "      <td>4</td>\n",
       "      <td>1</td>\n",
       "      <td>0.000000</td>\n",
       "    </tr>\n",
       "    <tr>\n",
       "      <th>51032</th>\n",
       "      <td>my 3 month old loves this  he loves to stare a...</td>\n",
       "      <td>5</td>\n",
       "      <td>1</td>\n",
       "      <td>0.000000</td>\n",
       "    </tr>\n",
       "    <tr>\n",
       "      <th>51033</th>\n",
       "      <td>we have several of these for our kids and boug...</td>\n",
       "      <td>5</td>\n",
       "      <td>1</td>\n",
       "      <td>0.000000</td>\n",
       "    </tr>\n",
       "    <tr>\n",
       "      <th>51034</th>\n",
       "      <td>we have purchased these before   they are grea...</td>\n",
       "      <td>5</td>\n",
       "      <td>1</td>\n",
       "      <td>100.000000</td>\n",
       "    </tr>\n",
       "    <tr>\n",
       "      <th>51035</th>\n",
       "      <td>although the stokke highchair and all associat...</td>\n",
       "      <td>4</td>\n",
       "      <td>1</td>\n",
       "      <td>20.000000</td>\n",
       "    </tr>\n",
       "  </tbody>\n",
       "</table>\n",
       "<p>51036 rows × 4 columns</p>\n",
       "</div>"
      ],
      "text/plain": [
       "                                              reviewText  overall  labels  \\\n",
       "0      i purchased this because my old worn down but ...        1      -1   \n",
       "1      we bought this instead of the pull back shades...        2      -1   \n",
       "2      do you like soaking wet bras  do you enjoy loo...        1      -1   \n",
       "3      my 1 year old daughter just does not like this...        2      -1   \n",
       "4      the phlanges are 24mm      i ended up being a ...        1      -1   \n",
       "...                                                  ...      ...     ...   \n",
       "51031  i picked up my daughter from daycare a week ag...        4       1   \n",
       "51032  my 3 month old loves this  he loves to stare a...        5       1   \n",
       "51033  we have several of these for our kids and boug...        5       1   \n",
       "51034  we have purchased these before   they are grea...        5       1   \n",
       "51035  although the stokke highchair and all associat...        4       1   \n",
       "\n",
       "          helpful  \n",
       "0       66.666667  \n",
       "1        0.000000  \n",
       "2        0.000000  \n",
       "3        0.000000  \n",
       "4      100.000000  \n",
       "...           ...  \n",
       "51031    0.000000  \n",
       "51032    0.000000  \n",
       "51033    0.000000  \n",
       "51034  100.000000  \n",
       "51035   20.000000  \n",
       "\n",
       "[51036 rows x 4 columns]"
      ]
     },
     "execution_count": 30,
     "metadata": {},
     "output_type": "execute_result"
    }
   ],
   "source": [
    "df"
   ]
  },
  {
   "cell_type": "code",
   "execution_count": 31,
   "id": "9d292cb7-4570-479a-b4b0-80a0d000f4e3",
   "metadata": {},
   "outputs": [],
   "source": [
    "# df[\"summary\"].value_counts()"
   ]
  },
  {
   "cell_type": "code",
   "execution_count": 32,
   "id": "fe8565c8-3f26-4e11-b0ea-08aa8b081530",
   "metadata": {},
   "outputs": [
    {
     "name": "stderr",
     "output_type": "stream",
     "text": [
      "C:\\Users\\abdul saboor\\AppData\\Local\\Temp\\ipykernel_2008\\974994975.py:2: SettingWithCopyWarning: \n",
      "A value is trying to be set on a copy of a slice from a DataFrame.\n",
      "Try using .loc[row_indexer,col_indexer] = value instead\n",
      "\n",
      "See the caveats in the documentation: https://pandas.pydata.org/pandas-docs/stable/user_guide/indexing.html#returning-a-view-versus-a-copy\n",
      "  df['reviewText'] = df['reviewText'].apply(lambda x: ' '.join([word for word in x.split() if word not in stop]))\n"
     ]
    }
   ],
   "source": [
    "# removing stop words from the text data :\n",
    "df['reviewText'] = df['reviewText'].apply(lambda x: ' '.join([word for word in x.split() if word not in stop]))\n",
    "# df['summary'] = df['summary'].apply(lambda x: ' '.join([word for word in x.split() if word not in stop]))"
   ]
  },
  {
   "cell_type": "code",
   "execution_count": 33,
   "id": "cedd3cb9-fdd5-454a-b0e2-60cebb05c1cc",
   "metadata": {},
   "outputs": [
    {
     "data": {
      "text/html": [
       "<div>\n",
       "<style scoped>\n",
       "    .dataframe tbody tr th:only-of-type {\n",
       "        vertical-align: middle;\n",
       "    }\n",
       "\n",
       "    .dataframe tbody tr th {\n",
       "        vertical-align: top;\n",
       "    }\n",
       "\n",
       "    .dataframe thead th {\n",
       "        text-align: right;\n",
       "    }\n",
       "</style>\n",
       "<table border=\"1\" class=\"dataframe\">\n",
       "  <thead>\n",
       "    <tr style=\"text-align: right;\">\n",
       "      <th></th>\n",
       "      <th>reviewText</th>\n",
       "      <th>overall</th>\n",
       "      <th>labels</th>\n",
       "      <th>helpful</th>\n",
       "    </tr>\n",
       "  </thead>\n",
       "  <tbody>\n",
       "    <tr>\n",
       "      <th>0</th>\n",
       "      <td>purchased old worn reliable shield witts end s...</td>\n",
       "      <td>1</td>\n",
       "      <td>-1</td>\n",
       "      <td>66.666667</td>\n",
       "    </tr>\n",
       "    <tr>\n",
       "      <th>1</th>\n",
       "      <td>bought instead pull back shades thinking work ...</td>\n",
       "      <td>2</td>\n",
       "      <td>-1</td>\n",
       "      <td>0.000000</td>\n",
       "    </tr>\n",
       "    <tr>\n",
       "      <th>2</th>\n",
       "      <td>like soaking wet bras enjoy looking like come ...</td>\n",
       "      <td>1</td>\n",
       "      <td>-1</td>\n",
       "      <td>0.000000</td>\n",
       "    </tr>\n",
       "    <tr>\n",
       "      <th>3</th>\n",
       "      <td>1 year old daughter like toy tried everything ...</td>\n",
       "      <td>2</td>\n",
       "      <td>-1</td>\n",
       "      <td>0.000000</td>\n",
       "    </tr>\n",
       "    <tr>\n",
       "      <th>4</th>\n",
       "      <td>phlanges 24mm ended 36mm change phlanges like ...</td>\n",
       "      <td>1</td>\n",
       "      <td>-1</td>\n",
       "      <td>100.000000</td>\n",
       "    </tr>\n",
       "    <tr>\n",
       "      <th>...</th>\n",
       "      <td>...</td>\n",
       "      <td>...</td>\n",
       "      <td>...</td>\n",
       "      <td>...</td>\n",
       "    </tr>\n",
       "    <tr>\n",
       "      <th>51031</th>\n",
       "      <td>picked daughter daycare week ago usually elate...</td>\n",
       "      <td>4</td>\n",
       "      <td>1</td>\n",
       "      <td>0.000000</td>\n",
       "    </tr>\n",
       "    <tr>\n",
       "      <th>51032</th>\n",
       "      <td>3 month old loves loves stare chuckles constan...</td>\n",
       "      <td>5</td>\n",
       "      <td>1</td>\n",
       "      <td>0.000000</td>\n",
       "    </tr>\n",
       "    <tr>\n",
       "      <th>51033</th>\n",
       "      <td>several kids bought gift work great swaddling ...</td>\n",
       "      <td>5</td>\n",
       "      <td>1</td>\n",
       "      <td>0.000000</td>\n",
       "    </tr>\n",
       "    <tr>\n",
       "      <th>51034</th>\n",
       "      <td>purchased great end tables coffee tables end t...</td>\n",
       "      <td>5</td>\n",
       "      <td>1</td>\n",
       "      <td>100.000000</td>\n",
       "    </tr>\n",
       "    <tr>\n",
       "      <th>51035</th>\n",
       "      <td>although stokke highchair associated parts fee...</td>\n",
       "      <td>4</td>\n",
       "      <td>1</td>\n",
       "      <td>20.000000</td>\n",
       "    </tr>\n",
       "  </tbody>\n",
       "</table>\n",
       "<p>51036 rows × 4 columns</p>\n",
       "</div>"
      ],
      "text/plain": [
       "                                              reviewText  overall  labels  \\\n",
       "0      purchased old worn reliable shield witts end s...        1      -1   \n",
       "1      bought instead pull back shades thinking work ...        2      -1   \n",
       "2      like soaking wet bras enjoy looking like come ...        1      -1   \n",
       "3      1 year old daughter like toy tried everything ...        2      -1   \n",
       "4      phlanges 24mm ended 36mm change phlanges like ...        1      -1   \n",
       "...                                                  ...      ...     ...   \n",
       "51031  picked daughter daycare week ago usually elate...        4       1   \n",
       "51032  3 month old loves loves stare chuckles constan...        5       1   \n",
       "51033  several kids bought gift work great swaddling ...        5       1   \n",
       "51034  purchased great end tables coffee tables end t...        5       1   \n",
       "51035  although stokke highchair associated parts fee...        4       1   \n",
       "\n",
       "          helpful  \n",
       "0       66.666667  \n",
       "1        0.000000  \n",
       "2        0.000000  \n",
       "3        0.000000  \n",
       "4      100.000000  \n",
       "...           ...  \n",
       "51031    0.000000  \n",
       "51032    0.000000  \n",
       "51033    0.000000  \n",
       "51034  100.000000  \n",
       "51035   20.000000  \n",
       "\n",
       "[51036 rows x 4 columns]"
      ]
     },
     "execution_count": 33,
     "metadata": {},
     "output_type": "execute_result"
    }
   ],
   "source": [
    "df"
   ]
  },
  {
   "cell_type": "code",
   "execution_count": 34,
   "id": "04b54ce8-7f1b-4b77-be16-6b6509e955d9",
   "metadata": {},
   "outputs": [
    {
     "name": "stderr",
     "output_type": "stream",
     "text": [
      "C:\\Users\\abdul saboor\\AppData\\Local\\Temp\\ipykernel_2008\\2176010896.py:3: SettingWithCopyWarning: \n",
      "A value is trying to be set on a copy of a slice from a DataFrame.\n",
      "Try using .loc[row_indexer,col_indexer] = value instead\n",
      "\n",
      "See the caveats in the documentation: https://pandas.pydata.org/pandas-docs/stable/user_guide/indexing.html#returning-a-view-versus-a-copy\n",
      "  df['reviewText'] = df['reviewText'].apply(lambda x: ' '.join([lemmatizer.lemmatize(word) for word in x.split()]))\n"
     ]
    }
   ],
   "source": [
    "# applying lematizer on words \n",
    "lemmatizer = WordNetLemmatizer()\n",
    "df['reviewText'] = df['reviewText'].apply(lambda x: ' '.join([lemmatizer.lemmatize(word) for word in x.split()]))\n",
    "# df['summary'] = df['summary'].apply(lambda x: ' '.join([lemmatizer.lemmatize(word) for word in x.split()]))"
   ]
  },
  {
   "cell_type": "code",
   "execution_count": 35,
   "id": "c6a134f5-6c6c-4585-ad8a-789967eafde9",
   "metadata": {},
   "outputs": [],
   "source": [
    "# Create separate vectorizers for reviewText and summary\n",
    "vectorizer_review = CountVectorizer()\n",
    "# vectorizer_summary = CountVectorizer()\n",
    "\n",
    "# Vectorize each separately\n",
    "X_cvec_review = vectorizer_review.fit_transform(df['reviewText'])\n",
    "# X_cvec_summary = vectorizer_summary.fit_transform(df['summary'])\n"
   ]
  },
  {
   "cell_type": "code",
   "execution_count": 36,
   "id": "2f0f020e-90ac-4e32-ab2e-0e452eeea2fa",
   "metadata": {},
   "outputs": [
    {
     "name": "stdout",
     "output_type": "stream",
     "text": [
      "(51036, 34373)\n"
     ]
    }
   ],
   "source": [
    "print(X_cvec_review.shape)\n",
    "# print(X_cvec_summary.shape)"
   ]
  },
  {
   "cell_type": "code",
   "execution_count": 37,
   "id": "c9e724ec-c5ea-4cb8-80b1-9ea5347b22b1",
   "metadata": {},
   "outputs": [],
   "source": [
    "# Create separate TF-IDF vectorizers\n",
    "tfidf_review = TfidfVectorizer(max_features=5000)  # For reviewText\n",
    "# tfidf_summary = TfidfVectorizer(max_features=5000)  # For summary\n",
    "\n",
    "X_tfidf_review = tfidf_review.fit_transform(df['reviewText'])\n",
    "# X_tfidf_summary = tfidf_summary.fit_transform(df['summary'])"
   ]
  },
  {
   "cell_type": "code",
   "execution_count": 38,
   "id": "0fef4e9e-1f1b-4935-9d47-94458175dacd",
   "metadata": {},
   "outputs": [
    {
     "name": "stdout",
     "output_type": "stream",
     "text": [
      "Shape of TF-IDF matrix for reviewText: (51036, 5000)\n"
     ]
    }
   ],
   "source": [
    "print(\"Shape of TF-IDF matrix for reviewText:\", X_tfidf_review.shape)\n",
    "# print(\"Shape of TF-IDF matrix for summary:\", X_tfidf_summary.shape)\n"
   ]
  },
  {
   "cell_type": "code",
   "execution_count": 39,
   "id": "178d5eb3-5b97-41ed-9504-8b46805a495d",
   "metadata": {},
   "outputs": [
    {
     "data": {
      "text/html": [
       "<div>\n",
       "<style scoped>\n",
       "    .dataframe tbody tr th:only-of-type {\n",
       "        vertical-align: middle;\n",
       "    }\n",
       "\n",
       "    .dataframe tbody tr th {\n",
       "        vertical-align: top;\n",
       "    }\n",
       "\n",
       "    .dataframe thead th {\n",
       "        text-align: right;\n",
       "    }\n",
       "</style>\n",
       "<table border=\"1\" class=\"dataframe\">\n",
       "  <thead>\n",
       "    <tr style=\"text-align: right;\">\n",
       "      <th></th>\n",
       "      <th>reviewText</th>\n",
       "      <th>overall</th>\n",
       "      <th>labels</th>\n",
       "      <th>helpful</th>\n",
       "    </tr>\n",
       "  </thead>\n",
       "  <tbody>\n",
       "    <tr>\n",
       "      <th>0</th>\n",
       "      <td>purchased old worn reliable shield witts end s...</td>\n",
       "      <td>1</td>\n",
       "      <td>-1</td>\n",
       "      <td>66.666667</td>\n",
       "    </tr>\n",
       "    <tr>\n",
       "      <th>1</th>\n",
       "      <td>bought instead pull back shade thinking work w...</td>\n",
       "      <td>2</td>\n",
       "      <td>-1</td>\n",
       "      <td>0.000000</td>\n",
       "    </tr>\n",
       "    <tr>\n",
       "      <th>2</th>\n",
       "      <td>like soaking wet bra enjoy looking like come w...</td>\n",
       "      <td>1</td>\n",
       "      <td>-1</td>\n",
       "      <td>0.000000</td>\n",
       "    </tr>\n",
       "    <tr>\n",
       "      <th>3</th>\n",
       "      <td>1 year old daughter like toy tried everything ...</td>\n",
       "      <td>2</td>\n",
       "      <td>-1</td>\n",
       "      <td>0.000000</td>\n",
       "    </tr>\n",
       "    <tr>\n",
       "      <th>4</th>\n",
       "      <td>phlanges 24mm ended 36mm change phlanges like ...</td>\n",
       "      <td>1</td>\n",
       "      <td>-1</td>\n",
       "      <td>100.000000</td>\n",
       "    </tr>\n",
       "    <tr>\n",
       "      <th>...</th>\n",
       "      <td>...</td>\n",
       "      <td>...</td>\n",
       "      <td>...</td>\n",
       "      <td>...</td>\n",
       "    </tr>\n",
       "    <tr>\n",
       "      <th>51031</th>\n",
       "      <td>picked daughter daycare week ago usually elate...</td>\n",
       "      <td>4</td>\n",
       "      <td>1</td>\n",
       "      <td>0.000000</td>\n",
       "    </tr>\n",
       "    <tr>\n",
       "      <th>51032</th>\n",
       "      <td>3 month old love love stare chuckle constantly...</td>\n",
       "      <td>5</td>\n",
       "      <td>1</td>\n",
       "      <td>0.000000</td>\n",
       "    </tr>\n",
       "    <tr>\n",
       "      <th>51033</th>\n",
       "      <td>several kid bought gift work great swaddling b...</td>\n",
       "      <td>5</td>\n",
       "      <td>1</td>\n",
       "      <td>0.000000</td>\n",
       "    </tr>\n",
       "    <tr>\n",
       "      <th>51034</th>\n",
       "      <td>purchased great end table coffee table end tab...</td>\n",
       "      <td>5</td>\n",
       "      <td>1</td>\n",
       "      <td>100.000000</td>\n",
       "    </tr>\n",
       "    <tr>\n",
       "      <th>51035</th>\n",
       "      <td>although stokke highchair associated part feel...</td>\n",
       "      <td>4</td>\n",
       "      <td>1</td>\n",
       "      <td>20.000000</td>\n",
       "    </tr>\n",
       "  </tbody>\n",
       "</table>\n",
       "<p>51036 rows × 4 columns</p>\n",
       "</div>"
      ],
      "text/plain": [
       "                                              reviewText  overall  labels  \\\n",
       "0      purchased old worn reliable shield witts end s...        1      -1   \n",
       "1      bought instead pull back shade thinking work w...        2      -1   \n",
       "2      like soaking wet bra enjoy looking like come w...        1      -1   \n",
       "3      1 year old daughter like toy tried everything ...        2      -1   \n",
       "4      phlanges 24mm ended 36mm change phlanges like ...        1      -1   \n",
       "...                                                  ...      ...     ...   \n",
       "51031  picked daughter daycare week ago usually elate...        4       1   \n",
       "51032  3 month old love love stare chuckle constantly...        5       1   \n",
       "51033  several kid bought gift work great swaddling b...        5       1   \n",
       "51034  purchased great end table coffee table end tab...        5       1   \n",
       "51035  although stokke highchair associated part feel...        4       1   \n",
       "\n",
       "          helpful  \n",
       "0       66.666667  \n",
       "1        0.000000  \n",
       "2        0.000000  \n",
       "3        0.000000  \n",
       "4      100.000000  \n",
       "...           ...  \n",
       "51031    0.000000  \n",
       "51032    0.000000  \n",
       "51033    0.000000  \n",
       "51034  100.000000  \n",
       "51035   20.000000  \n",
       "\n",
       "[51036 rows x 4 columns]"
      ]
     },
     "execution_count": 39,
     "metadata": {},
     "output_type": "execute_result"
    }
   ],
   "source": [
    "df"
   ]
  },
  {
   "cell_type": "code",
   "execution_count": 40,
   "id": "dc3cc2ba-8ed4-43ee-9eb0-1012b6c12155",
   "metadata": {},
   "outputs": [
    {
     "data": {
      "text/plain": [
       "array([[  1.        ,  66.66666667],\n",
       "       [  2.        ,   0.        ],\n",
       "       [  1.        ,   0.        ],\n",
       "       ...,\n",
       "       [  5.        ,   0.        ],\n",
       "       [  5.        , 100.        ],\n",
       "       [  4.        ,  20.        ]])"
      ]
     },
     "execution_count": 40,
     "metadata": {},
     "output_type": "execute_result"
    }
   ],
   "source": [
    "# input : of model\n",
    "x=df[[\"overall\",\"helpful\"]].values\n",
    "x\n",
    "\n"
   ]
  },
  {
   "cell_type": "code",
   "execution_count": 41,
   "id": "5b1f93a3-a52d-4466-bfc9-793b1ab576f5",
   "metadata": {},
   "outputs": [
    {
     "data": {
      "text/plain": [
       "array([-1, -1, -1, ...,  1,  1,  1], dtype=int64)"
      ]
     },
     "execution_count": 41,
     "metadata": {},
     "output_type": "execute_result"
    }
   ],
   "source": [
    "# output : of model\n",
    "y= df[\"labels\"].values\n",
    "y"
   ]
  },
  {
   "cell_type": "code",
   "execution_count": 42,
   "id": "ad9de6e9-0311-4ecc-8bda-17331855f74c",
   "metadata": {},
   "outputs": [
    {
     "name": "stdout",
     "output_type": "stream",
     "text": [
      "Shapes of x_Train and y_Train:\n",
      "(40828, 2)\n",
      "(40828,)\n",
      "Shapes of x_Test and y_Test:\n",
      "(10208, 2)\n",
      "(10208,)\n"
     ]
    }
   ],
   "source": [
    "# split train and test data :\n",
    "x_train,x_test,y_train,y_test= train_test_split(x,y,test_size=0.2,random_state=43)\n",
    "print(\"Shapes of x_Train and y_Train:\")\n",
    "print(x_train.shape)\n",
    "print(y_train.shape)\n",
    "print(\"Shapes of x_Test and y_Test:\")\n",
    "print(x_test.shape)\n",
    "print(y_test.shape)\n"
   ]
  },
  {
   "cell_type": "code",
   "execution_count": 43,
   "id": "d6cc0bda-3dac-40ef-9295-a35702ad8bf6",
   "metadata": {},
   "outputs": [
    {
     "name": "stdout",
     "output_type": "stream",
     "text": [
      "Shapes of Count Vectors Review:\n",
      "(40828, 34373)\n",
      "(10208, 34373)\n"
     ]
    }
   ],
   "source": [
    "# split train and test data : of count vectors :\n",
    "x_cvec_review_train,x_cvec_review_test,*_= train_test_split(X_cvec_review,y,test_size=0.2,random_state=43)\n",
    "# x_cvec_summary_train,x_cvec_summary_test,*_= train_test_split(X_cvec_summary,y,test_size=0.2,random_state=43)\n",
    "print(\"Shapes of Count Vectors Review:\")\n",
    "print(x_cvec_review_train.shape)\n",
    "print(x_cvec_review_test.shape)\n",
    "\n",
    "# print(\"Shapes of Count Vectors Summary:\")\n",
    "# print(x_cvec_summary_train.shape)\n",
    "# print(x_cvec_summary_test.shape)"
   ]
  },
  {
   "cell_type": "code",
   "execution_count": 44,
   "id": "51e6e39e-dcd6-4093-a18f-667c7ea5ca89",
   "metadata": {},
   "outputs": [
    {
     "name": "stdout",
     "output_type": "stream",
     "text": [
      "Shapes of TF-IDF Review:\n",
      "(40828, 5000)\n",
      "(10208, 5000)\n"
     ]
    }
   ],
   "source": [
    "# split train and test data : of tfidfs vectors :\n",
    "x_tfidf_review_train,x_tfidf_review_test,*_= train_test_split(X_tfidf_review,y,test_size=0.2,random_state=43)\n",
    "# x_tfidf_summary_train,x_tfidf_summary_test,*_= train_test_split(X_tfidf_summary,y,test_size=0.2,random_state=43)\n",
    "# Print shapes to verify splits\n",
    "print(\"Shapes of TF-IDF Review:\")\n",
    "print(x_tfidf_review_train.shape)\n",
    "print(x_tfidf_review_test.shape)\n",
    "\n",
    "# print(\"Shapes of TF-IDF Summary:\")\n",
    "# print(x_tfidf_summary_train.shape)\n",
    "# print(x_tfidf_summary_test.shape)\n",
    "\n"
   ]
  },
  {
   "cell_type": "code",
   "execution_count": 45,
   "id": "80b3e234-74f6-4ec0-aa3f-43eb3a5eaca1",
   "metadata": {},
   "outputs": [],
   "source": [
    "model = LogisticRegression(penalty='l2', C=0.1)\n"
   ]
  },
  {
   "cell_type": "code",
   "execution_count": 46,
   "id": "e51e59ff-2b25-4127-a43d-2106044ce8de",
   "metadata": {},
   "outputs": [],
   "source": [
    "# Combine all features into a single input\n",
    "# x_train_combined = hstack([x_train, x_tfidf_review_train, x_tfidf_summary_train,x_cvec_review_train,x_cvec_summary_train])\n",
    "# x_test_combined = hstack([x_test, x_tfidf_review_test, x_tfidf_summary_test,x_cvec_review_test,x_cvec_summary_test])\n",
    "x_train_combined = hstack([x_train, x_tfidf_review_train, x_cvec_review_train])\n",
    "x_test_combined = hstack([x_test, x_tfidf_review_test, x_cvec_review_test])\n"
   ]
  },
  {
   "cell_type": "code",
   "execution_count": 47,
   "id": "25cc8781-bba3-45dc-b251-0478ab553006",
   "metadata": {},
   "outputs": [
    {
     "name": "stderr",
     "output_type": "stream",
     "text": [
      "C:\\Users\\abdul saboor\\AppData\\Local\\Programs\\Python\\Python312\\Lib\\site-packages\\sklearn\\linear_model\\_logistic.py:460: ConvergenceWarning: lbfgs failed to converge (status=1):\n",
      "STOP: TOTAL NO. of ITERATIONS REACHED LIMIT.\n",
      "\n",
      "Increase the number of iterations (max_iter) or scale the data as shown in:\n",
      "    https://scikit-learn.org/stable/modules/preprocessing.html\n",
      "Please also refer to the documentation for alternative solver options:\n",
      "    https://scikit-learn.org/stable/modules/linear_model.html#logistic-regression\n",
      "  n_iter_i = _check_optimize_result(\n"
     ]
    },
    {
     "data": {
      "text/html": [
       "<style>#sk-container-id-1 {color: black;}#sk-container-id-1 pre{padding: 0;}#sk-container-id-1 div.sk-toggleable {background-color: white;}#sk-container-id-1 label.sk-toggleable__label {cursor: pointer;display: block;width: 100%;margin-bottom: 0;padding: 0.3em;box-sizing: border-box;text-align: center;}#sk-container-id-1 label.sk-toggleable__label-arrow:before {content: \"▸\";float: left;margin-right: 0.25em;color: #696969;}#sk-container-id-1 label.sk-toggleable__label-arrow:hover:before {color: black;}#sk-container-id-1 div.sk-estimator:hover label.sk-toggleable__label-arrow:before {color: black;}#sk-container-id-1 div.sk-toggleable__content {max-height: 0;max-width: 0;overflow: hidden;text-align: left;background-color: #f0f8ff;}#sk-container-id-1 div.sk-toggleable__content pre {margin: 0.2em;color: black;border-radius: 0.25em;background-color: #f0f8ff;}#sk-container-id-1 input.sk-toggleable__control:checked~div.sk-toggleable__content {max-height: 200px;max-width: 100%;overflow: auto;}#sk-container-id-1 input.sk-toggleable__control:checked~label.sk-toggleable__label-arrow:before {content: \"▾\";}#sk-container-id-1 div.sk-estimator input.sk-toggleable__control:checked~label.sk-toggleable__label {background-color: #d4ebff;}#sk-container-id-1 div.sk-label input.sk-toggleable__control:checked~label.sk-toggleable__label {background-color: #d4ebff;}#sk-container-id-1 input.sk-hidden--visually {border: 0;clip: rect(1px 1px 1px 1px);clip: rect(1px, 1px, 1px, 1px);height: 1px;margin: -1px;overflow: hidden;padding: 0;position: absolute;width: 1px;}#sk-container-id-1 div.sk-estimator {font-family: monospace;background-color: #f0f8ff;border: 1px dotted black;border-radius: 0.25em;box-sizing: border-box;margin-bottom: 0.5em;}#sk-container-id-1 div.sk-estimator:hover {background-color: #d4ebff;}#sk-container-id-1 div.sk-parallel-item::after {content: \"\";width: 100%;border-bottom: 1px solid gray;flex-grow: 1;}#sk-container-id-1 div.sk-label:hover label.sk-toggleable__label {background-color: #d4ebff;}#sk-container-id-1 div.sk-serial::before {content: \"\";position: absolute;border-left: 1px solid gray;box-sizing: border-box;top: 0;bottom: 0;left: 50%;z-index: 0;}#sk-container-id-1 div.sk-serial {display: flex;flex-direction: column;align-items: center;background-color: white;padding-right: 0.2em;padding-left: 0.2em;position: relative;}#sk-container-id-1 div.sk-item {position: relative;z-index: 1;}#sk-container-id-1 div.sk-parallel {display: flex;align-items: stretch;justify-content: center;background-color: white;position: relative;}#sk-container-id-1 div.sk-item::before, #sk-container-id-1 div.sk-parallel-item::before {content: \"\";position: absolute;border-left: 1px solid gray;box-sizing: border-box;top: 0;bottom: 0;left: 50%;z-index: -1;}#sk-container-id-1 div.sk-parallel-item {display: flex;flex-direction: column;z-index: 1;position: relative;background-color: white;}#sk-container-id-1 div.sk-parallel-item:first-child::after {align-self: flex-end;width: 50%;}#sk-container-id-1 div.sk-parallel-item:last-child::after {align-self: flex-start;width: 50%;}#sk-container-id-1 div.sk-parallel-item:only-child::after {width: 0;}#sk-container-id-1 div.sk-dashed-wrapped {border: 1px dashed gray;margin: 0 0.4em 0.5em 0.4em;box-sizing: border-box;padding-bottom: 0.4em;background-color: white;}#sk-container-id-1 div.sk-label label {font-family: monospace;font-weight: bold;display: inline-block;line-height: 1.2em;}#sk-container-id-1 div.sk-label-container {text-align: center;}#sk-container-id-1 div.sk-container {/* jupyter's `normalize.less` sets `[hidden] { display: none; }` but bootstrap.min.css set `[hidden] { display: none !important; }` so we also need the `!important` here to be able to override the default hidden behavior on the sphinx rendered scikit-learn.org. See: https://github.com/scikit-learn/scikit-learn/issues/21755 */display: inline-block !important;position: relative;}#sk-container-id-1 div.sk-text-repr-fallback {display: none;}</style><div id=\"sk-container-id-1\" class=\"sk-top-container\"><div class=\"sk-text-repr-fallback\"><pre>LogisticRegression(C=0.1)</pre><b>In a Jupyter environment, please rerun this cell to show the HTML representation or trust the notebook. <br />On GitHub, the HTML representation is unable to render, please try loading this page with nbviewer.org.</b></div><div class=\"sk-container\" hidden><div class=\"sk-item\"><div class=\"sk-estimator sk-toggleable\"><input class=\"sk-toggleable__control sk-hidden--visually\" id=\"sk-estimator-id-1\" type=\"checkbox\" checked><label for=\"sk-estimator-id-1\" class=\"sk-toggleable__label sk-toggleable__label-arrow\">LogisticRegression</label><div class=\"sk-toggleable__content\"><pre>LogisticRegression(C=0.1)</pre></div></div></div></div></div>"
      ],
      "text/plain": [
       "LogisticRegression(C=0.1)"
      ]
     },
     "execution_count": 47,
     "metadata": {},
     "output_type": "execute_result"
    }
   ],
   "source": [
    "model.fit(x_train_combined,y_train)"
   ]
  },
  {
   "cell_type": "code",
   "execution_count": 48,
   "id": "ad1b1f0f-eee8-4cb6-a719-1c75052c5db5",
   "metadata": {},
   "outputs": [],
   "source": [
    "y_pred=model.predict(x_test_combined)"
   ]
  },
  {
   "cell_type": "code",
   "execution_count": 49,
   "id": "fcf57a28-24b5-4333-8368-e56967d70607",
   "metadata": {},
   "outputs": [
    {
     "name": "stdout",
     "output_type": "stream",
     "text": [
      "Accuracy: 0.9375979623824452\n",
      "              precision    recall  f1-score   support\n",
      "\n",
      "          -1       0.96      0.96      0.96      3400\n",
      "           0       0.92      0.89      0.91      3436\n",
      "           1       0.94      0.96      0.95      3372\n",
      "\n",
      "    accuracy                           0.94     10208\n",
      "   macro avg       0.94      0.94      0.94     10208\n",
      "weighted avg       0.94      0.94      0.94     10208\n",
      "\n"
     ]
    }
   ],
   "source": [
    "\n",
    "# Evaluate the model\n",
    "print(\"Accuracy:\", accuracy_score(y_test, y_pred))\n",
    "print(classification_report(y_test, y_pred))"
   ]
  },
  {
   "cell_type": "code",
   "execution_count": 50,
   "id": "b7d17a32-fdb3-4e86-8f1d-7d40e12b4dbd",
   "metadata": {},
   "outputs": [],
   "source": [
    "\n",
    "# Use cross-validation to evaluate the model\n",
    "# cv_scores = cross_val_score(model, x_train_combined, y_train, cv=5)  # 5-fold cross-validation\n",
    "# print(\"Cross-validation scores:\", cv_scores)\n",
    "# print(\"Mean cross-validation score:\", cv_scores.mean())\n"
   ]
  },
  {
   "cell_type": "code",
   "execution_count": 51,
   "id": "671076f7-c85a-4c19-b82d-cced9b229cb0",
   "metadata": {},
   "outputs": [
    {
     "data": {
      "image/png": "[encoded data removed]",
      "text/plain": [
       "<Figure size 1000x700 with 2 Axes>"
      ]
     },
     "metadata": {},
     "output_type": "display_data"
    }
   ],
   "source": [
    "\n",
    "\n",
    "y_pred = model.predict(x_test_combined)\n",
    "cm = confusion_matrix(y_test, y_pred)\n",
    "\n",
    "plt.figure(figsize=(10, 7))\n",
    "sns.heatmap(cm, annot=True, fmt='d', cmap='Blues', xticklabels=['-1', '0', '1'], yticklabels=['-1', '0', '1'])\n",
    "plt.ylabel('Actual')\n",
    "plt.xlabel('Predicted')\n",
    "plt.title('Confusion Matrix')\n",
    "plt.show()\n"
   ]
  },
  {
   "cell_type": "code",
   "execution_count": 57,
   "id": "2de6dec5-7baa-4116-8792-5f9108482372",
   "metadata": {},
   "outputs": [],
   "source": [
    "import pickle\n",
    "\n",
    "\n",
    "# Save the model\n",
    "with open('picklefiles/logisticregression.pkl', 'wb') as model_file:\n",
    "    pickle.dump(model, model_file)\n",
    "\n",
    "# Save the vectorizers\n",
    "with open('picklefiles/vectorizer_review.pkl', 'wb') as review_vec_file:\n",
    "    pickle.dump(vectorizer_review, review_vec_file)\n",
    "\n",
    "# with open('vectorizer_summary.pkl', 'wb') as summary_vec_file:\n",
    "#     pickle.dump(vectorizer_summary, summary_vec_file)\n",
    "\n",
    "# Save the TF-IDF vectorizers (if you used them)\n",
    "with open('picklefiles/tfidf_review.pkl', 'wb') as tfidf_review_file:\n",
    "    pickle.dump(tfidf_review, tfidf_review_file)\n",
    "\n",
    "# with open('tfidf_summary.pkl', 'wb') as tfidf_summary_file:\n",
    "#     pickle.dump(tfidf_summary, tfidf_summary_file)\n",
    "\n"
   ]
  },
  {
   "cell_type": "code",
   "execution_count": 58,
   "id": "d27b1477-8997-4546-9dae-5c8482766fb9",
   "metadata": {},
   "outputs": [],
   "source": [
    "# Load the model\n",
    "with open('picklefiles/logisticregression.pkl', 'rb') as model_file:\n",
    "    model = pickle.load(model_file)\n",
    "\n",
    "# Load the vectorizers\n",
    "with open('picklefiles/vectorizer_review.pkl', 'rb') as review_vec_file:\n",
    "    vectorizer_review = pickle.load(review_vec_file)\n",
    "\n",
    "# with open('vectorizer_summary.pkl', 'rb') as summary_vec_file:\n",
    "#     vectorizer_summary = pickle.load(summary_vec_file)\n",
    "\n",
    "# Load the TF-IDF vectorizers (if you used them)\n",
    "with open('picklefiles/tfidf_review.pkl', 'rb') as tfidf_review_file:\n",
    "    tfidf_review = pickle.load(tfidf_review_file)\n",
    "\n",
    "# with open('tfidf_summary.pkl', 'rb') as tfidf_summary_file:\n",
    "#     tfidf_summary = pickle.load(tfidf_summary_file)\n",
    "\n",
    "# Load other transformers as needed\n"
   ]
  },
  {
   "cell_type": "code",
   "execution_count": null,
   "id": "6d48e9ed-6cc4-491f-b5f8-d777e58bd9ed",
   "metadata": {},
   "outputs": [],
   "source": [
    "# model.predict()"
   ]
  },
  {
   "cell_type": "code",
   "execution_count": 59,
   "id": "7fb8981f-3bbf-4427-834d-7c2dd5e40a53",
   "metadata": {},
   "outputs": [],
   "source": [
    "# function to convert to lower case :\n",
    "def lowercase(str:[str])->[str]:\n",
    "    return str.lower()\n",
    "#  function to remove punctuations :\n",
    "def removepunctuations(s: str) -> str:\n",
    "    # Create translation table to replace punctuation with spaces\n",
    "    translation_table = str.maketrans(string.punctuation, ' ' * len(string.punctuation))\n",
    "    # Remove punctuation using the translation table\n",
    "    return s.translate(translation_table)\n",
    "#  function to remove punctuations :\n",
    "def removestopwords(s: str, stop: set=stop) -> str:\n",
    "    return ' '.join([word for word in s.split() if word not in stop])\n",
    "# apply lemmatizer\n",
    "def applylemmatizer(s:str)->[str]:\n",
    "    lemmatizer = WordNetLemmatizer()\n",
    "    return ' '.join([lemmatizer.lemmatize(s) for s in s.split()])\n",
    "# apply counter vector\n",
    "def applycountvector(s: str, vectorizer: CountVectorizer) -> any:\n",
    "    return vectorizer.transform([s])\n",
    "# apply tfidf vector\n",
    "def applyTFIDFvector(s: str, vectorizer: TfidfVectorizer) -> any:\n",
    "    return vectorizer.transform([s])\n",
    "\n",
    "# combined all  the parameters :\n",
    "# def combineparameters (x_tfidf_review,x_cvec_review,x_tfidf_summary,x_cvec_summary):\n",
    "#     return hstack([x_tfidf_review,x_cvec_review,x_tfidf_summary,x_cvec_summary])\n",
    "def combineparameters (x_tfidf_review,x_cvec_review,):\n",
    "    return hstack([x_tfidf_review,x_cvec_review])\n",
    "\n",
    "\n",
    "def applydatapreprocessing(s:str,cvector:CountVectorizer,tfidf:TfidfVectorizer)->any:\n",
    "    s=lowercase(s)\n",
    "    s=removepunctuations(s)\n",
    "    s=removestopwords(s)\n",
    "    s=applylemmatizer(s)\n",
    "    s_vec=applycountvector(s,cvector)\n",
    "    s_tfidf=applyTFIDFvector(s,tfidf)\n",
    "    return hstack([s_tfidf,s_vec])\n",
    "      "
   ]
  },
  {
   "cell_type": "code",
   "execution_count": 61,
   "id": "cc254d23-2600-4024-9d4e-368c2ad743de",
   "metadata": {},
   "outputs": [
    {
     "name": "stdout",
     "output_type": "stream",
     "text": [
      "  (0, 4715)\t0.33540457200358204\n",
      "  (0, 704)\t0.9420741866111679\n",
      "  (0, 10855)\t1.0\n",
      "  (0, 37428)\t1.0\n"
     ]
    }
   ],
   "source": [
    "overall = 3\n",
    "helpful=100.0\n",
    "reviewtxt=\"cant use it at all\"\n",
    "# summarytxt=\"ok\"\n",
    "\n",
    "\n"
   ]
  },
  {
   "cell_type": "code",
   "execution_count": null,
   "id": "8f288808-08d4-4255-8993-68d489fb23d4",
   "metadata": {},
   "outputs": [],
   "source": []
  },
  {
   "cell_type": "code",
   "execution_count": null,
   "id": "3ac71cf5-cef9-4c19-a923-28b67fd38466",
   "metadata": {},
   "outputs": [],
   "source": [
    "str=applylemmatizer(removestopwords(reviewtxt,stop))\n",
    "print(applycountvector(str,vectorizer_review))\n",
    "print(applyTFIDFvector(str,tfidf_review))"
   ]
  },
  {
   "cell_type": "code",
   "execution_count": null,
   "id": "ab054624-0b3c-4000-bc9b-581c0a698691",
   "metadata": {},
   "outputs": [],
   "source": [
    "\n",
    "preprocessreview=applydatapreprocessing(reviewtxt,vectorizer_review,tfidf_review)\n",
    "# preprocesssummary=applydatapreprocessing(summarytxt,vectorizer_summary,tfidf_summary)\n"
   ]
  },
  {
   "cell_type": "code",
   "execution_count": null,
   "id": "d3707fbf-43a2-4d60-9c1b-ac6f6fa90026",
   "metadata": {},
   "outputs": [],
   "source": [
    "# input=hstack([overall,helpful,preprocessreview,preprocesssummary])\n",
    "input=hstack([overall,helpful,preprocessreview])"
   ]
  },
  {
   "cell_type": "code",
   "execution_count": null,
   "id": "341cad97-1da0-4bb3-8689-c9684bbe0b06",
   "metadata": {},
   "outputs": [],
   "source": [
    "input"
   ]
  },
  {
   "cell_type": "code",
   "execution_count": null,
   "id": "c7dd4d80-2e4a-41e3-ac82-bcf0b2ae3af3",
   "metadata": {},
   "outputs": [],
   "source": [
    "model.predict(input)"
   ]
  },
  {
   "cell_type": "code",
   "execution_count": null,
   "id": "7de3ae8c-3ec5-416a-aed5-3ebe77e9fa71",
   "metadata": {},
   "outputs": [],
   "source": []
  },
  {
   "cell_type": "code",
   "execution_count": null,
   "id": "7081b5fb-ba06-40ba-88e7-257ddca6f0e6",
   "metadata": {},
   "outputs": [],
   "source": [
    "# Get coefficients\n",
    "coefficients = model.coef_[0]  # For binary classification\n",
    "\n",
    "# Create a DataFrame for visualization\n",
    "coef_df = pd.DataFrame({'Coefficient': coefficients})\n",
    "coef_df['Importance'] = coef_df['Coefficient'].abs()\n",
    "coef_df = coef_df.sort_values(by='Importance', ascending=False)\n",
    "\n"
   ]
  },
  {
   "cell_type": "code",
   "execution_count": null,
   "id": "a6280d3d-ad2f-4bc5-8543-7ee9a22c389b",
   "metadata": {},
   "outputs": [],
   "source": [
    "len(coef_df[coef_df[\"Importance\"]==0.0])"
   ]
  },
  {
   "cell_type": "code",
   "execution_count": null,
   "id": "ad1eadff-62fb-46db-baa1-dcd83fce1d6d",
   "metadata": {},
   "outputs": [],
   "source": [
    "len(coef_df[coef_df[\"Coefficient\"]==0.0])"
   ]
  },
  {
   "cell_type": "code",
   "execution_count": null,
   "id": "b28a44f9-cf59-4789-96ce-f70d19201e11",
   "metadata": {},
   "outputs": [],
   "source": []
  }
 ],
 "metadata": {
  "kernelspec": {
   "display_name": "Python 3 (ipykernel)",
   "language": "python",
   "name": "python3"
  },
  "language_info": {
   "codemirror_mode": {
    "name": "ipython",
    "version": 3
   },
   "file_extension": ".py",
   "mimetype": "text/x-python",
   "name": "python",
   "nbconvert_exporter": "python",
   "pygments_lexer": "ipython3",
   "version": "3.12.1"
  }
 },
 "nbformat": 4,
 "nbformat_minor": 5
}
